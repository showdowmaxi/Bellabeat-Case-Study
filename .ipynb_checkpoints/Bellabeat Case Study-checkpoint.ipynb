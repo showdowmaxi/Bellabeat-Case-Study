{
 "cells": [
  {
   "cell_type": "markdown",
   "id": "ae0fc927",
   "metadata": {},
   "source": [
    "## Background\n",
    "\n",
    "[Bellabeat](https://bellabeat.com/) is a high-tech company founded by Urška Sršen and Sando Mur 2013, which manufactures health-focused smart products for women. \n",
    "\n",
    "The product of Bellabeat offers:\n",
    "1. **Bellabeat app**:The Bellabeat app provides users with health data related to their activity, sleep, stress, menstrual cycle, and mindfulness habits. This data can help users better understand their current habits and make healthy decisions. The Bellabeat app connects to their line of smart wellness products.\n",
    "\n",
    "\n",
    "2. **Leaf**:Bellabeat’s classic wellness tracker can be worn as a bracelet, necklace, or clip. The Leaf tracker connects to the Bellabeat app to track activity, sleep, and stress.\n",
    "\n",
    "\n",
    "3. **Time**:This wellness watch combines the timeless look of a classic timepiece with smart technology to track user activity, sleep, and stress. The Time watch connects to the Bellabeat app to provide you with insights into your daily wellness.\n",
    "\n",
    "\n",
    "4. **Spring**:This is a water bottle that tracks daily water intake using smart technology to ensure that you are appropriately hydrated throughout the day. The Spring bottle connects to the Bellabeat app to track your hydration levels.\n",
    "\n",
    "\n",
    "5. **Bellabeat membership**: Bellabeat also offers a subscription-based membership program for users.\n",
    "Membership gives users 24/7 access to fully personalized guidance on nutrition, activity, sleep, health and beauty, and mindfulness based on their lifestyle and goals.\n",
    "\n",
    "\n",
    "Urška Sršen would like to gain the insights of how consumers use non-Bellabeat smart devices and apply these insights with actionable recommendations for one Bellabeat product.\n",
    "\n",
    "## Data\n",
    "The data of this case study derive from [FitBit Fitness Tracker Data](https://www.kaggle.com/datasets/arashnic/fitbit/discussion)\n",
    "\n",
    "The size of dataset is 338 MB, which contains following data files:\n",
    "- dailyActivity_merged.csv\n",
    "- dailyCalories_merged.csv\n",
    "- dailyIntensities_merged.csv\n",
    "- dailySteps_merged.csv\n",
    "- heartrate_seconds_merged.csv\n",
    "- hourlyCalories_merged.csv\n",
    "- hourlyIntensities_merged.csv\n",
    "- hourlySteps_merged.csv\n",
    "- minuteCaloriesNarrow_merged.csv\n",
    "- minuteCaloriesWide_merged.csv\n",
    "- minuteIntensitiesNarrow_merged.csv\n",
    "- minuteIntensitiesWide_merged.csv\n",
    "- minuteMETsNarrow_merged.csv\n",
    "- minuteSleep_merged.csv\n",
    "- minuteStepsNarrow_merged.csv\n",
    "- minuteStepsWide_merged.csv\n",
    "- sleepDay_merged.csv\n",
    "- weightLogInfo_merged.csv\n",
    "\n",
    "The data used in this case:\n",
    "- dailyActivity_merged.csv   \n",
    "- heartrate_seconds_merged.csv\n",
    "- sleepDay_merged.csv\n",
    "- weightLogInfo_merged.csv\n",
    "\n",
    "## Task\n",
    "1. Identify the trends of smart device usage\n",
    "2. How would these trends apply to Bellabeat customers and help influence Bellabeat market\n",
    "\n",
    "## Limitation on data\n",
    "The dataset provided 33 users with fitness tracking data over 31 days. The following is a list of potential issues that may cause biased analysis:\n",
    "\n",
    "1. The sample size is too small, only has a record of 33 users tracking data, which is not representable. \n",
    "2. Some of the selected data for analysis do not have the entire 33 users tracking data and have full tracking data over 31 days.\n",
    "3. Since Bellabeat focuses on women's health, the provided data may not fully express the interest in Bellabeat market objective.\n",
    "\n",
    "## Findings\n",
    "1. The number of indivisuals in each dataset:\n",
    "    - 33 people records in dailyActivity_merged data\n",
    "    - 14 out of 33 people records in heartrate_seconds_merged data\n",
    "    - 24 out of 33 people records in sleepDay_merged\n",
    "    - 8 out of 33 people records in weightLogInfo_merged\n",
    "    \n",
    "    \n",
    "2. The weightLogInfo and heartrate data:\n",
    "   - This may reflect users do not tend to track their records in these two categories since the number of people in each group is less than 50 percent of the entire sample size.\n",
    "   - From the given available data point on heart rate, the majority achieve peak heart rate in the afternoon.\n",
    "   - From the given available data point on weightLogInfo, only 2 Ids has data record over 20 days, the rest of them is less than 10 days.\n",
    "\n",
    "\n",
    "3. The sleepDay_merged data:\n",
    "   - In general, people in this group's sleep range is between 6 hours and 8 hours. \n",
    "   - The majority of this group stay in the bed for at least 0.5 hours. \n",
    "   - 9 out of 24 people have less than 10-days records of their sleeping activities.\n",
    "   - It is highly likely users take off devices while sleeping if the smart device functions properly.\n",
    "   \n",
    "   \n",
    "4. The dailyActivity_merged data:\n",
    "    - The group contains the most completed information for 33 users, only one Id has less than 4 days of tracking data. This shows that most people are interested in knowing their status on daily working steps, distance, and time.\n",
    "    - Uncommonly, the most popular weekdays on this dataset are Tuesday, Wednesday, and Thursday.\n",
    "    - By observing Ids that have 31 days of tracking data, this group of data points can be divided into 3 categories based on the total step and calories.(Total steps < 5000, 5000 <= Total steps <= 10000, Total steps > 10000) The data points for people on more total steps groups become centralized in a certain region rather than dispersion even though the sample size of each group is different.\n",
    "\n",
    "## Conclusion and Recommendation\n",
    "\n",
    "Based on findings on the given dataset, the majority are interested in understanding their daily physical health, in terms of total steps, walking distance, and hours during the daytime. Most people do not wear the smart device while sleeping. For people sleep with a smart device, they spend at least 30 minutes in bed. Unfortunately, the given data reveals that heart rate and weight Log tracking data are the least useful information for users.\n",
    "\n",
    "From the data of non-Bellabeat customers, most people take smart devices for simple walking steps measurements without fully identifying the purpose for their health condition by analyzing from different angles, such as heart rate, sleep pattern, and weight log as a whole picture.\n",
    "\n",
    "Promoting the idea of loving self every day by understanding self-healthy conditions through data would be the first step to helping customers gain awareness of the brand. Bellabeat could help women build better themselves. Be confident, healthy, and positive.\n",
    "\n",
    "Bellabeat app provides a wide range of features to help users understand what is going on with them with Bellabeat accessories or the member plan for health. However, it would be better to build an incentive program to encourage different states of people to keep on track. For example, setting up milestones while achieving daily goals over a certain period. Alternatively, creating local Bellabeat communities where Bellabeat members share their stories and bring more of their friends to the community through the Bellabeat app.\n",
    "\n",
    "\n",
    "## Futher analysis\n",
    "The given data provides some general preferences on the user for using the smart device. However, it is not clear why people users take smart devices. Is it for fun because of the market tendency? Is it just a device to check daily walking steps only? More data points from unique Ids would be helpful to understand the purpose and the behavior of users and determine possible factors to motivate them to accept and use smart devices."
   ]
  },
  {
   "cell_type": "code",
   "execution_count": 1,
   "id": "e9b7b5e9",
   "metadata": {},
   "outputs": [
    {
     "name": "stderr",
     "output_type": "stream",
     "text": [
      "Registered S3 methods overwritten by 'tibble':\n",
      "  method     from  \n",
      "  format.tbl pillar\n",
      "  print.tbl  pillar\n",
      "Registered S3 methods overwritten by 'ggplot2':\n",
      "  method         from \n",
      "  [.quosures     rlang\n",
      "  c.quosures     rlang\n",
      "  print.quosures rlang\n",
      "Registered S3 method overwritten by 'rvest':\n",
      "  method            from\n",
      "  read_xml.response xml2\n",
      "-- Attaching packages --------------------------------------- tidyverse 1.2.1 --\n",
      "v ggplot2 3.1.1       v purrr   0.3.2  \n",
      "v tibble  2.1.1       v dplyr   0.8.0.1\n",
      "v tidyr   0.8.3       v stringr 1.4.0  \n",
      "v readr   1.3.1       v forcats 0.4.0  \n",
      "-- Conflicts ------------------------------------------ tidyverse_conflicts() --\n",
      "x dplyr::filter() masks stats::filter()\n",
      "x dplyr::lag()    masks stats::lag()\n",
      "\n",
      "Attaching package: 'lubridate'\n",
      "\n",
      "The following object is masked from 'package:base':\n",
      "\n",
      "    date\n",
      "\n"
     ]
    }
   ],
   "source": [
    "library(tidyverse)\n",
    "library(lubridate)"
   ]
  },
  {
   "cell_type": "markdown",
   "id": "3815b1ec",
   "metadata": {},
   "source": [
    "### Load the datasets and check its data structure"
   ]
  },
  {
   "cell_type": "code",
   "execution_count": 2,
   "id": "70ac2d55",
   "metadata": {},
   "outputs": [
    {
     "name": "stderr",
     "output_type": "stream",
     "text": [
      "Parsed with column specification:\n",
      "cols(\n",
      "  Id = col_double(),\n",
      "  ActivityDate = col_character(),\n",
      "  TotalSteps = col_double(),\n",
      "  TotalDistance = col_double(),\n",
      "  TrackerDistance = col_double(),\n",
      "  LoggedActivitiesDistance = col_double(),\n",
      "  VeryActiveDistance = col_double(),\n",
      "  ModeratelyActiveDistance = col_double(),\n",
      "  LightActiveDistance = col_double(),\n",
      "  SedentaryActiveDistance = col_double(),\n",
      "  VeryActiveMinutes = col_double(),\n",
      "  FairlyActiveMinutes = col_double(),\n",
      "  LightlyActiveMinutes = col_double(),\n",
      "  SedentaryMinutes = col_double(),\n",
      "  Calories = col_double()\n",
      ")\n"
     ]
    },
    {
     "name": "stdout",
     "output_type": "stream",
     "text": [
      "Classes 'spec_tbl_df', 'tbl_df', 'tbl' and 'data.frame':\t940 obs. of  15 variables:\n",
      " $ Id                      : num  1.5e+09 1.5e+09 1.5e+09 1.5e+09 1.5e+09 ...\n",
      " $ ActivityDate            : chr  \"4/12/2016\" \"4/13/2016\" \"4/14/2016\" \"4/15/2016\" ...\n",
      " $ TotalSteps              : num  13162 10735 10460 9762 12669 ...\n",
      " $ TotalDistance           : num  8.5 6.97 6.74 6.28 8.16 ...\n",
      " $ TrackerDistance         : num  8.5 6.97 6.74 6.28 8.16 ...\n",
      " $ LoggedActivitiesDistance: num  0 0 0 0 0 0 0 0 0 0 ...\n",
      " $ VeryActiveDistance      : num  1.88 1.57 2.44 2.14 2.71 ...\n",
      " $ ModeratelyActiveDistance: num  0.55 0.69 0.4 1.26 0.41 ...\n",
      " $ LightActiveDistance     : num  6.06 4.71 3.91 2.83 5.04 ...\n",
      " $ SedentaryActiveDistance : num  0 0 0 0 0 0 0 0 0 0 ...\n",
      " $ VeryActiveMinutes       : num  25 21 30 29 36 38 42 50 28 19 ...\n",
      " $ FairlyActiveMinutes     : num  13 19 11 34 10 20 16 31 12 8 ...\n",
      " $ LightlyActiveMinutes    : num  328 217 181 209 221 164 233 264 205 211 ...\n",
      " $ SedentaryMinutes        : num  728 776 1218 726 773 ...\n",
      " $ Calories                : num  1985 1797 1776 1745 1863 ...\n",
      " - attr(*, \"spec\")=\n",
      "  .. cols(\n",
      "  ..   Id = col_double(),\n",
      "  ..   ActivityDate = col_character(),\n",
      "  ..   TotalSteps = col_double(),\n",
      "  ..   TotalDistance = col_double(),\n",
      "  ..   TrackerDistance = col_double(),\n",
      "  ..   LoggedActivitiesDistance = col_double(),\n",
      "  ..   VeryActiveDistance = col_double(),\n",
      "  ..   ModeratelyActiveDistance = col_double(),\n",
      "  ..   LightActiveDistance = col_double(),\n",
      "  ..   SedentaryActiveDistance = col_double(),\n",
      "  ..   VeryActiveMinutes = col_double(),\n",
      "  ..   FairlyActiveMinutes = col_double(),\n",
      "  ..   LightlyActiveMinutes = col_double(),\n",
      "  ..   SedentaryMinutes = col_double(),\n",
      "  ..   Calories = col_double()\n",
      "  .. )\n"
     ]
    }
   ],
   "source": [
    "#load daily activities\n",
    "daily_activities <- read_csv(\"datasets/dailyActivity_merged.csv\")\n",
    "str(daily_activities)"
   ]
  },
  {
   "cell_type": "code",
   "execution_count": 3,
   "id": "ebc96cb4",
   "metadata": {},
   "outputs": [
    {
     "name": "stderr",
     "output_type": "stream",
     "text": [
      "Parsed with column specification:\n",
      "cols(\n",
      "  Id = col_double(),\n",
      "  Time = col_character(),\n",
      "  Value = col_double()\n",
      ")\n"
     ]
    },
    {
     "name": "stdout",
     "output_type": "stream",
     "text": [
      "Classes 'spec_tbl_df', 'tbl_df', 'tbl' and 'data.frame':\t2483658 obs. of  3 variables:\n",
      " $ Id   : num  2.02e+09 2.02e+09 2.02e+09 2.02e+09 2.02e+09 ...\n",
      " $ Time : chr  \"4/12/2016 7:21:00 AM\" \"4/12/2016 7:21:05 AM\" \"4/12/2016 7:21:10 AM\" \"4/12/2016 7:21:20 AM\" ...\n",
      " $ Value: num  97 102 105 103 101 95 91 93 94 93 ...\n",
      " - attr(*, \"spec\")=\n",
      "  .. cols(\n",
      "  ..   Id = col_double(),\n",
      "  ..   Time = col_character(),\n",
      "  ..   Value = col_double()\n",
      "  .. )\n"
     ]
    }
   ],
   "source": [
    "# load heart rate\n",
    "heart_rate <- read_csv('datasets/heartrate_seconds_merged.csv')\n",
    "str(heart_rate)"
   ]
  },
  {
   "cell_type": "code",
   "execution_count": 4,
   "id": "0d346ec2",
   "metadata": {},
   "outputs": [
    {
     "name": "stdout",
     "output_type": "stream",
     "text": [
      "'data.frame':\t413 obs. of  5 variables:\n",
      " $ Id                : num  1.5e+09 1.5e+09 1.5e+09 1.5e+09 1.5e+09 ...\n",
      " $ SleepDay          : Factor w/ 31 levels \"4/12/2016 12:00:00 AM\",..: 1 2 4 5 6 8 9 10 12 13 ...\n",
      " $ TotalSleepRecords : int  1 2 1 2 1 1 1 1 1 1 ...\n",
      " $ TotalMinutesAsleep: int  327 384 412 340 700 304 360 325 361 430 ...\n",
      " $ TotalTimeInBed    : int  346 407 442 367 712 320 377 364 384 449 ...\n"
     ]
    }
   ],
   "source": [
    "#load sleepday\n",
    "sleepday <- read.csv('datasets/sleepDay_merged.csv')\n",
    "str(sleepday)"
   ]
  },
  {
   "cell_type": "code",
   "execution_count": 5,
   "id": "fd71ffd9",
   "metadata": {},
   "outputs": [
    {
     "name": "stderr",
     "output_type": "stream",
     "text": [
      "Parsed with column specification:\n",
      "cols(\n",
      "  Id = col_double(),\n",
      "  Date = col_character(),\n",
      "  WeightKg = col_double(),\n",
      "  WeightPounds = col_double(),\n",
      "  Fat = col_double(),\n",
      "  BMI = col_double(),\n",
      "  IsManualReport = col_logical(),\n",
      "  LogId = col_double()\n",
      ")\n"
     ]
    },
    {
     "name": "stdout",
     "output_type": "stream",
     "text": [
      "Classes 'spec_tbl_df', 'tbl_df', 'tbl' and 'data.frame':\t67 obs. of  8 variables:\n",
      " $ Id            : num  1.50e+09 1.50e+09 1.93e+09 2.87e+09 2.87e+09 ...\n",
      " $ Date          : chr  \"5/2/2016 11:59:59 PM\" \"5/3/2016 11:59:59 PM\" \"4/13/2016 1:08:52 AM\" \"4/21/2016 11:59:59 PM\" ...\n",
      " $ WeightKg      : num  52.6 52.6 133.5 56.7 57.3 ...\n",
      " $ WeightPounds  : num  116 116 294 125 126 ...\n",
      " $ Fat           : num  22 NA NA NA NA 25 NA NA NA NA ...\n",
      " $ BMI           : num  22.6 22.6 47.5 21.5 21.7 ...\n",
      " $ IsManualReport: logi  TRUE TRUE FALSE TRUE TRUE TRUE ...\n",
      " $ LogId         : num  1.46e+12 1.46e+12 1.46e+12 1.46e+12 1.46e+12 ...\n",
      " - attr(*, \"spec\")=\n",
      "  .. cols(\n",
      "  ..   Id = col_double(),\n",
      "  ..   Date = col_character(),\n",
      "  ..   WeightKg = col_double(),\n",
      "  ..   WeightPounds = col_double(),\n",
      "  ..   Fat = col_double(),\n",
      "  ..   BMI = col_double(),\n",
      "  ..   IsManualReport = col_logical(),\n",
      "  ..   LogId = col_double()\n",
      "  .. )\n"
     ]
    }
   ],
   "source": [
    "#load weightloginof\n",
    "weightLogInfo <- read_csv(\"datasets/weightLogInfo_merged.csv\")\n",
    "str(weightLogInfo)"
   ]
  },
  {
   "cell_type": "code",
   "execution_count": 6,
   "id": "fa8cf78e",
   "metadata": {},
   "outputs": [],
   "source": [
    "## convert activity date into right type\n",
    "daily_activities <- daily_activities %>%\n",
    "    mutate(ActivityDate = mdy(ActivityDate))"
   ]
  },
  {
   "cell_type": "code",
   "execution_count": 7,
   "id": "698e67e5",
   "metadata": {},
   "outputs": [
    {
     "data": {
      "text/html": [
       "<table>\n",
       "<thead><tr><th scope=col>number_of_users</th><th scope=col>start_date</th><th scope=col>end_datae</th><th scope=col>time_length</th></tr></thead>\n",
       "<tbody>\n",
       "\t<tr><td>33        </td><td>2016-04-12</td><td>2016-05-12</td><td>31 days   </td></tr>\n",
       "</tbody>\n",
       "</table>\n"
      ],
      "text/latex": [
       "\\begin{tabular}{r|llll}\n",
       " number\\_of\\_users & start\\_date & end\\_datae & time\\_length\\\\\n",
       "\\hline\n",
       "\t 33         & 2016-04-12 & 2016-05-12 & 31 days   \\\\\n",
       "\\end{tabular}\n"
      ],
      "text/markdown": [
       "\n",
       "| number_of_users | start_date | end_datae | time_length |\n",
       "|---|---|---|---|\n",
       "| 33         | 2016-04-12 | 2016-05-12 | 31 days    |\n",
       "\n"
      ],
      "text/plain": [
       "  number_of_users start_date end_datae  time_length\n",
       "1 33              2016-04-12 2016-05-12 31 days    "
      ]
     },
     "metadata": {},
     "output_type": "display_data"
    }
   ],
   "source": [
    "# check the number of unique users and time length\n",
    "daily_summary <- daily_activities%>%\n",
    "    summarise(number_of_users = length(unique(Id)),\n",
    "             start_date = min(ActivityDate),\n",
    "             end_datae = max(ActivityDate),\n",
    "             time_length = max(ActivityDate) - min(ActivityDate) +1)\n",
    "daily_summary"
   ]
  },
  {
   "cell_type": "code",
   "execution_count": 8,
   "id": "d7fca36a",
   "metadata": {},
   "outputs": [
    {
     "data": {
      "text/html": [
       "0"
      ],
      "text/latex": [
       "0"
      ],
      "text/markdown": [
       "0"
      ],
      "text/plain": [
       "[1] 0"
      ]
     },
     "metadata": {},
     "output_type": "display_data"
    }
   ],
   "source": [
    "sum(is.na(daily_activities))"
   ]
  },
  {
   "cell_type": "markdown",
   "id": "5aa07441",
   "metadata": {},
   "source": [
    "Notice that the second column on the dataset of heart_rate, sleepday, weightLogInfo does not have the right format.  Write a function to convert into the right date time format."
   ]
  },
  {
   "cell_type": "code",
   "execution_count": 9,
   "id": "d0dcf5fb",
   "metadata": {},
   "outputs": [],
   "source": [
    "convert_type <- function(df) {\n",
    "#     This function take a dataframe and convert the Date into the POSIXct time format\n",
    "#     input: dateframe\n",
    "#     output : return the 2nd column with the right data format\n",
    "   \n",
    "    df[[2]] <- parse_date_time( df[[2]] , orders = \"mdy HMS p\")\n",
    "    return (df)\n",
    "}"
   ]
  },
  {
   "cell_type": "code",
   "execution_count": 10,
   "id": "b1793e18",
   "metadata": {},
   "outputs": [],
   "source": [
    "# convert into the right format\n",
    "heart_rate <- convert_type(heart_rate)"
   ]
  },
  {
   "cell_type": "code",
   "execution_count": 11,
   "id": "fc392d63",
   "metadata": {},
   "outputs": [],
   "source": [
    "sleepday <- convert_type(sleepday)"
   ]
  },
  {
   "cell_type": "code",
   "execution_count": 12,
   "id": "8b2bd0e6",
   "metadata": {},
   "outputs": [],
   "source": [
    "weightLogInfo <- convert_type(weightLogInfo)"
   ]
  },
  {
   "cell_type": "code",
   "execution_count": 13,
   "id": "458f5e28",
   "metadata": {},
   "outputs": [
    {
     "data": {
      "text/html": [
       "'The missing values in heart_rate 0'"
      ],
      "text/latex": [
       "'The missing values in heart\\_rate 0'"
      ],
      "text/markdown": [
       "'The missing values in heart_rate 0'"
      ],
      "text/plain": [
       "[1] \"The missing values in heart_rate 0\""
      ]
     },
     "metadata": {},
     "output_type": "display_data"
    },
    {
     "data": {
      "text/html": [
       "'The missing values in sleepday 0'"
      ],
      "text/latex": [
       "'The missing values in sleepday 0'"
      ],
      "text/markdown": [
       "'The missing values in sleepday 0'"
      ],
      "text/plain": [
       "[1] \"The missing values in sleepday 0\""
      ]
     },
     "metadata": {},
     "output_type": "display_data"
    },
    {
     "data": {
      "text/html": [
       "<span style=white-space:pre-wrap>'The missing values in weightLogInfo  65'</span>"
      ],
      "text/latex": [
       "'The missing values in weightLogInfo  65'"
      ],
      "text/markdown": [
       "<span style=white-space:pre-wrap>'The missing values in weightLogInfo  65'</span>"
      ],
      "text/plain": [
       "[1] \"The missing values in weightLogInfo  65\""
      ]
     },
     "metadata": {},
     "output_type": "display_data"
    }
   ],
   "source": [
    "#check missing values\n",
    "sprintf(\"The missing values in heart_rate %i\", sum(is.na(heart_rate)))\n",
    "sprintf(\"The missing values in sleepday %i\", sum(is.na(sleepday)))\n",
    "sprintf(\"The missing values in weightLogInfo  %i\", sum(is.na(weightLogInfo)))"
   ]
  },
  {
   "cell_type": "code",
   "execution_count": 14,
   "id": "0c2595cb",
   "metadata": {},
   "outputs": [
    {
     "data": {
      "text/html": [
       "<table>\n",
       "<thead><tr><th scope=col>Id</th><th scope=col>Date</th><th scope=col>WeightKg</th><th scope=col>WeightPounds</th><th scope=col>Fat</th><th scope=col>BMI</th><th scope=col>IsManualReport</th><th scope=col>LogId</th></tr></thead>\n",
       "<tbody>\n",
       "\t<tr><td>1503960366         </td><td>2016-05-02 23:59:59</td><td> 52.6              </td><td>115.9631           </td><td>22                 </td><td>22.65              </td><td> TRUE              </td><td>1.462234e+12       </td></tr>\n",
       "\t<tr><td>1503960366         </td><td>2016-05-03 23:59:59</td><td> 52.6              </td><td>115.9631           </td><td>NA                 </td><td>22.65              </td><td> TRUE              </td><td>1.462320e+12       </td></tr>\n",
       "\t<tr><td>1927972279         </td><td>2016-04-13 01:08:52</td><td>133.5              </td><td>294.3171           </td><td>NA                 </td><td>47.54              </td><td>FALSE              </td><td>1.460510e+12       </td></tr>\n",
       "\t<tr><td>2873212765         </td><td>2016-04-21 23:59:59</td><td> 56.7              </td><td>125.0021           </td><td>NA                 </td><td>21.45              </td><td> TRUE              </td><td>1.461283e+12       </td></tr>\n",
       "\t<tr><td>2873212765         </td><td>2016-05-12 23:59:59</td><td> 57.3              </td><td>126.3249           </td><td>NA                 </td><td>21.69              </td><td> TRUE              </td><td>1.463098e+12       </td></tr>\n",
       "\t<tr><td>4319703577         </td><td>2016-04-17 23:59:59</td><td> 72.4              </td><td>159.6147           </td><td>25                 </td><td>27.45              </td><td> TRUE              </td><td>1.460938e+12       </td></tr>\n",
       "</tbody>\n",
       "</table>\n"
      ],
      "text/latex": [
       "\\begin{tabular}{r|llllllll}\n",
       " Id & Date & WeightKg & WeightPounds & Fat & BMI & IsManualReport & LogId\\\\\n",
       "\\hline\n",
       "\t 1503960366          & 2016-05-02 23:59:59 &  52.6               & 115.9631            & 22                  & 22.65               &  TRUE               & 1.462234e+12       \\\\\n",
       "\t 1503960366          & 2016-05-03 23:59:59 &  52.6               & 115.9631            & NA                  & 22.65               &  TRUE               & 1.462320e+12       \\\\\n",
       "\t 1927972279          & 2016-04-13 01:08:52 & 133.5               & 294.3171            & NA                  & 47.54               & FALSE               & 1.460510e+12       \\\\\n",
       "\t 2873212765          & 2016-04-21 23:59:59 &  56.7               & 125.0021            & NA                  & 21.45               &  TRUE               & 1.461283e+12       \\\\\n",
       "\t 2873212765          & 2016-05-12 23:59:59 &  57.3               & 126.3249            & NA                  & 21.69               &  TRUE               & 1.463098e+12       \\\\\n",
       "\t 4319703577          & 2016-04-17 23:59:59 &  72.4               & 159.6147            & 25                  & 27.45               &  TRUE               & 1.460938e+12       \\\\\n",
       "\\end{tabular}\n"
      ],
      "text/markdown": [
       "\n",
       "| Id | Date | WeightKg | WeightPounds | Fat | BMI | IsManualReport | LogId |\n",
       "|---|---|---|---|---|---|---|---|\n",
       "| 1503960366          | 2016-05-02 23:59:59 |  52.6               | 115.9631            | 22                  | 22.65               |  TRUE               | 1.462234e+12        |\n",
       "| 1503960366          | 2016-05-03 23:59:59 |  52.6               | 115.9631            | NA                  | 22.65               |  TRUE               | 1.462320e+12        |\n",
       "| 1927972279          | 2016-04-13 01:08:52 | 133.5               | 294.3171            | NA                  | 47.54               | FALSE               | 1.460510e+12        |\n",
       "| 2873212765          | 2016-04-21 23:59:59 |  56.7               | 125.0021            | NA                  | 21.45               |  TRUE               | 1.461283e+12        |\n",
       "| 2873212765          | 2016-05-12 23:59:59 |  57.3               | 126.3249            | NA                  | 21.69               |  TRUE               | 1.463098e+12        |\n",
       "| 4319703577          | 2016-04-17 23:59:59 |  72.4               | 159.6147            | 25                  | 27.45               |  TRUE               | 1.460938e+12        |\n",
       "\n"
      ],
      "text/plain": [
       "  Id         Date                WeightKg WeightPounds Fat BMI   IsManualReport\n",
       "1 1503960366 2016-05-02 23:59:59  52.6    115.9631     22  22.65  TRUE         \n",
       "2 1503960366 2016-05-03 23:59:59  52.6    115.9631     NA  22.65  TRUE         \n",
       "3 1927972279 2016-04-13 01:08:52 133.5    294.3171     NA  47.54 FALSE         \n",
       "4 2873212765 2016-04-21 23:59:59  56.7    125.0021     NA  21.45  TRUE         \n",
       "5 2873212765 2016-05-12 23:59:59  57.3    126.3249     NA  21.69  TRUE         \n",
       "6 4319703577 2016-04-17 23:59:59  72.4    159.6147     25  27.45  TRUE         \n",
       "  LogId       \n",
       "1 1.462234e+12\n",
       "2 1.462320e+12\n",
       "3 1.460510e+12\n",
       "4 1.461283e+12\n",
       "5 1.463098e+12\n",
       "6 1.460938e+12"
      ]
     },
     "metadata": {},
     "output_type": "display_data"
    }
   ],
   "source": [
    "head(weightLogInfo)"
   ]
  },
  {
   "cell_type": "markdown",
   "id": "547c65fa",
   "metadata": {},
   "source": [
    "The missing value in the column of Fat on weightLogInfo just ignore it now since BMI and weight are available."
   ]
  },
  {
   "cell_type": "code",
   "execution_count": 15,
   "id": "ddfc49c8",
   "metadata": {},
   "outputs": [],
   "source": [
    "stat_summary <- function (df, col1, col2){\n",
    "#     This function is for summarize the brif statistics on the dataframe\n",
    "#     to see the number of people, start_date, end_date and time_length \n",
    "    df_summary <- df %>%\n",
    "    mutate({{col2}} := date({{col2}})) %>%\n",
    "    summarise(\n",
    "             number_of_users = length(unique({{col1}})),\n",
    "             start_date = min({{col2}}),\n",
    "             end_datae = max({{col2}}),\n",
    "             time_length = max({{col2}}) - min({{col2}}) + 1)\n",
    "    return (df_summary)\n",
    "}"
   ]
  },
  {
   "cell_type": "code",
   "execution_count": 16,
   "id": "604d9008",
   "metadata": {},
   "outputs": [],
   "source": [
    "# get the summary for each dataset\n",
    "heart_rate_summary<- stat_summary(heart_rate, Id, Time)\n",
    "sleepday_summary <- stat_summary(sleepday,Id, SleepDay)\n",
    "weightLogInfo_summary <- stat_summary(weightLogInfo, Id, Date)"
   ]
  },
  {
   "cell_type": "code",
   "execution_count": 17,
   "id": "e9294e90",
   "metadata": {},
   "outputs": [
    {
     "data": {
      "image/png": "[encoded data removed]",
      "text/plain": [
       "plot without title"
      ]
     },
     "metadata": {},
     "output_type": "display_data"
    }
   ],
   "source": [
    "#summarized all datasets \n",
    "summaries_df <- rbind(daily_summary, heart_rate_summary, sleepday_summary, weightLogInfo_summary) \n",
    "summaries_df$types<- c(\"daily_activities\",  \"heart_rate\",\"sleepday\",\"weightLogInfo\")\n",
    "\n",
    "#plot the bar chart\n",
    "ggplot(summaries_df,aes(x=types, y=number_of_users, fill=types)) +\n",
    "    geom_bar(stat = \"identity\")+\n",
    "    geom_text(aes(label= number_of_users) , vjust = 0.1, size = 4)+\n",
    "    labs(title=\"Total numbers of people in the dataset for different measurements\")\n"
   ]
  },
  {
   "cell_type": "markdown",
   "id": "d78da412",
   "metadata": {},
   "source": [
    "There are 33 people to use their devices to measure their daily walking steps along with walking distance status, walking timing status, and calories consumptions. However, there are only 24 people have records of their sleeping activities. Surprisingly, only 14 and 8 people have heart rate and weight Information to trace respectively.\n",
    "\n",
    "Let us look at the heart rate and weightLogInfo to see why less than half of people have these two categorical data."
   ]
  },
  {
   "cell_type": "code",
   "execution_count": 18,
   "id": "dd15e916",
   "metadata": {},
   "outputs": [
    {
     "data": {
      "image/png": "[encoded data removed]",
      "text/plain": [
       "Plot with title \"The peak heart rate and its time\""
      ]
     },
     "metadata": {},
     "output_type": "display_data"
    }
   ],
   "source": [
    "heart_rate %>%\n",
    "    group_by(Id) %>% \n",
    "    filter(Value == max(Value)) %>%\n",
    "    summarise( peak_heart_rate = max(Value),\n",
    "               peak_heart_rate_time= format(max(Time), format = \"%H\"))%>%\n",
    "    with(plot(peak_heart_rate,peak_heart_rate_time, main = \"The peak heart rate and its time\")) %>%\n",
    "    abline(v = 180, col = \"darkgreen\") %>%\n",
    "    abline(h = 12, col = \"blue\")"
   ]
  },
  {
   "cell_type": "markdown",
   "id": "36ba16ef",
   "metadata": {},
   "source": [
    "The peak heart rate can be classified into two different, as the green line located, less than or greater equal than 180. \n",
    "There are only 6 people who have less than 180 peak heart rates. 5 of them reach their peak heart rate before 12 AM. **The lowest point shown on the image at 0 y-axes happens at midnight.**\n",
    "\n",
    "From the time perspective, only 6 people approach their peak heart rate before 12 PM, which data points are separated by the blue line.\n",
    "\n",
    "The given data size is too small, only 14 people have records for heart rate measurements. It does not really reflect the user preferences. However, the tendency of peak heart rate normally happens in the afternoon. \n",
    "\n",
    "For the rest of the 19 missing records in heart rate,  the reason could not be determined by the issue of users or the information lost from the data provider."
   ]
  },
  {
   "cell_type": "code",
   "execution_count": 19,
   "id": "8446d953",
   "metadata": {},
   "outputs": [
    {
     "data": {
      "text/html": [
       "<table>\n",
       "<thead><tr><th scope=col>Id</th><th scope=col>IsManualReport</th><th scope=col>total_measuremnts</th></tr></thead>\n",
       "<tbody>\n",
       "\t<tr><td>1503960366</td><td> TRUE     </td><td> 2        </td></tr>\n",
       "\t<tr><td>1927972279</td><td>FALSE     </td><td> 1        </td></tr>\n",
       "\t<tr><td>2873212765</td><td> TRUE     </td><td> 2        </td></tr>\n",
       "\t<tr><td>4319703577</td><td> TRUE     </td><td> 2        </td></tr>\n",
       "\t<tr><td>4558609924</td><td> TRUE     </td><td> 5        </td></tr>\n",
       "\t<tr><td>5577150313</td><td>FALSE     </td><td> 1        </td></tr>\n",
       "\t<tr><td>6962181067</td><td> TRUE     </td><td>30        </td></tr>\n",
       "\t<tr><td>8877689391</td><td>FALSE     </td><td>24        </td></tr>\n",
       "</tbody>\n",
       "</table>\n"
      ],
      "text/latex": [
       "\\begin{tabular}{r|lll}\n",
       " Id & IsManualReport & total\\_measuremnts\\\\\n",
       "\\hline\n",
       "\t 1503960366 &  TRUE      &  2        \\\\\n",
       "\t 1927972279 & FALSE      &  1        \\\\\n",
       "\t 2873212765 &  TRUE      &  2        \\\\\n",
       "\t 4319703577 &  TRUE      &  2        \\\\\n",
       "\t 4558609924 &  TRUE      &  5        \\\\\n",
       "\t 5577150313 & FALSE      &  1        \\\\\n",
       "\t 6962181067 &  TRUE      & 30        \\\\\n",
       "\t 8877689391 & FALSE      & 24        \\\\\n",
       "\\end{tabular}\n"
      ],
      "text/markdown": [
       "\n",
       "| Id | IsManualReport | total_measuremnts |\n",
       "|---|---|---|\n",
       "| 1503960366 |  TRUE      |  2         |\n",
       "| 1927972279 | FALSE      |  1         |\n",
       "| 2873212765 |  TRUE      |  2         |\n",
       "| 4319703577 |  TRUE      |  2         |\n",
       "| 4558609924 |  TRUE      |  5         |\n",
       "| 5577150313 | FALSE      |  1         |\n",
       "| 6962181067 |  TRUE      | 30         |\n",
       "| 8877689391 | FALSE      | 24         |\n",
       "\n"
      ],
      "text/plain": [
       "  Id         IsManualReport total_measuremnts\n",
       "1 1503960366  TRUE           2               \n",
       "2 1927972279 FALSE           1               \n",
       "3 2873212765  TRUE           2               \n",
       "4 4319703577  TRUE           2               \n",
       "5 4558609924  TRUE           5               \n",
       "6 5577150313 FALSE           1               \n",
       "7 6962181067  TRUE          30               \n",
       "8 8877689391 FALSE          24               "
      ]
     },
     "metadata": {},
     "output_type": "display_data"
    }
   ],
   "source": [
    "weightLogInfo %>%\n",
    "    group_by(Id, Date) %>%\n",
    "    filter(duplicated(Date)| n() == 1)%>%  #keep only distinct values\n",
    "    group_by(Id, IsManualReport)%>%\n",
    "    summarise(\n",
    "            total_measuremnts = n()\n",
    "    )"
   ]
  },
  {
   "cell_type": "markdown",
   "id": "6d2ddd7b",
   "metadata": {},
   "source": [
    "For weight records, there are 2 out of 8 people who record their weight changes for more than 20 days. This suggests that users do not tend to record their weight changes frequently. The reason for that could be a lack of motivation, to pay attention to their health. Or it could be it is a hassle for users to enter values by checking their weights.\n",
    "\n",
    "Let us check on the sleepday  dataset"
   ]
  },
  {
   "cell_type": "code",
   "execution_count": 20,
   "id": "b3ead2a6",
   "metadata": {},
   "outputs": [],
   "source": [
    "sleepday_states <- sleepday %>% \n",
    "    group_by(Id, SleepDay)%>%\n",
    "    filter(duplicated(SleepDay)| n() == 1)%>%  #keep only distinct values\n",
    "    group_by(Id)%>%\n",
    "    summarise( avg_sleeping_time = mean(TotalMinutesAsleep)/60,\n",
    "               avg_in_bed_time = mean(TotalTimeInBed)/60,\n",
    "               extra_avg_bed_time = (mean(TotalTimeInBed) - mean(TotalMinutesAsleep))/60,\n",
    "               total_records = n()) %>%\n",
    "    arrange(desc(total_records))\n",
    "    "
   ]
  },
  {
   "cell_type": "code",
   "execution_count": 21,
   "id": "db6d4423",
   "metadata": {},
   "outputs": [
    {
     "data": {
      "text/html": [
       "<table>\n",
       "<thead><tr><th scope=col>Id</th><th scope=col>avg_sleeping_time</th><th scope=col>avg_in_bed_time</th><th scope=col>extra_avg_bed_time</th><th scope=col>total_records</th></tr></thead>\n",
       "<tbody>\n",
       "\t<tr><td>5553957443</td><td> 7.724731 </td><td> 8.431183 </td><td>0.70645161</td><td>31        </td></tr>\n",
       "\t<tr><td>6962181067</td><td> 7.466667 </td><td> 7.768817 </td><td>0.30215054</td><td>31        </td></tr>\n",
       "\t<tr><td>8378563200</td><td> 7.418817 </td><td> 8.098925 </td><td>0.68010753</td><td>31        </td></tr>\n",
       "\t<tr><td>2026352035</td><td> 8.436310 </td><td> 8.960714 </td><td>0.52440476</td><td>28        </td></tr>\n",
       "\t<tr><td>3977333714</td><td> 4.894048 </td><td> 7.685714 </td><td>2.79166667</td><td>28        </td></tr>\n",
       "\t<tr><td>4445114986</td><td> 6.419643 </td><td> 6.947024 </td><td>0.52738095</td><td>28        </td></tr>\n",
       "\t<tr><td>4702921684</td><td> 6.958025 </td><td> 7.303704 </td><td>0.34567901</td><td>27        </td></tr>\n",
       "\t<tr><td>4319703577</td><td> 7.944231 </td><td> 8.366026 </td><td>0.42179487</td><td>26        </td></tr>\n",
       "\t<tr><td>5577150313</td><td> 7.200000 </td><td> 7.676923 </td><td>0.47692308</td><td>26        </td></tr>\n",
       "\t<tr><td>1503960366</td><td> 6.004667 </td><td> 6.386667 </td><td>0.38200000</td><td>25        </td></tr>\n",
       "\t<tr><td>7086361926</td><td> 7.552083 </td><td> 7.773611 </td><td>0.22152778</td><td>24        </td></tr>\n",
       "\t<tr><td>4388161847</td><td> 6.669565 </td><td> 7.053623 </td><td>0.38405797</td><td>23        </td></tr>\n",
       "\t<tr><td>6117666160</td><td> 7.979630 </td><td> 8.502778 </td><td>0.52314815</td><td>18        </td></tr>\n",
       "\t<tr><td>2347167796</td><td> 7.446667 </td><td> 8.188889 </td><td>0.74222222</td><td>15        </td></tr>\n",
       "\t<tr><td>8792009665</td><td> 7.261111 </td><td> 7.563333 </td><td>0.30222222</td><td>15        </td></tr>\n",
       "\t<tr><td>4020332650</td><td> 5.822917 </td><td> 6.329167 </td><td>0.50625000</td><td> 8        </td></tr>\n",
       "\t<tr><td>1927972279</td><td> 6.950000 </td><td> 7.296667 </td><td>0.34666667</td><td> 5        </td></tr>\n",
       "\t<tr><td>4558609924</td><td> 2.126667 </td><td> 2.333333 </td><td>0.20666667</td><td> 5        </td></tr>\n",
       "\t<tr><td>1644430081</td><td> 4.900000 </td><td> 5.766667 </td><td>0.86666667</td><td> 4        </td></tr>\n",
       "\t<tr><td>1844505072</td><td>10.866667 </td><td>16.016667 </td><td>5.15000000</td><td> 3        </td></tr>\n",
       "\t<tr><td>6775888955</td><td> 5.827778 </td><td> 6.150000 </td><td>0.32222222</td><td> 3        </td></tr>\n",
       "\t<tr><td>8053475328</td><td> 4.950000 </td><td> 5.027778 </td><td>0.07777778</td><td> 3        </td></tr>\n",
       "\t<tr><td>7007744171</td><td> 1.141667 </td><td> 1.191667 </td><td>0.05000000</td><td> 2        </td></tr>\n",
       "\t<tr><td>2320127002</td><td> 1.016667 </td><td> 1.150000 </td><td>0.13333333</td><td> 1        </td></tr>\n",
       "</tbody>\n",
       "</table>\n"
      ],
      "text/latex": [
       "\\begin{tabular}{r|lllll}\n",
       " Id & avg\\_sleeping\\_time & avg\\_in\\_bed\\_time & extra\\_avg\\_bed\\_time & total\\_records\\\\\n",
       "\\hline\n",
       "\t 5553957443 &  7.724731  &  8.431183  & 0.70645161 & 31        \\\\\n",
       "\t 6962181067 &  7.466667  &  7.768817  & 0.30215054 & 31        \\\\\n",
       "\t 8378563200 &  7.418817  &  8.098925  & 0.68010753 & 31        \\\\\n",
       "\t 2026352035 &  8.436310  &  8.960714  & 0.52440476 & 28        \\\\\n",
       "\t 3977333714 &  4.894048  &  7.685714  & 2.79166667 & 28        \\\\\n",
       "\t 4445114986 &  6.419643  &  6.947024  & 0.52738095 & 28        \\\\\n",
       "\t 4702921684 &  6.958025  &  7.303704  & 0.34567901 & 27        \\\\\n",
       "\t 4319703577 &  7.944231  &  8.366026  & 0.42179487 & 26        \\\\\n",
       "\t 5577150313 &  7.200000  &  7.676923  & 0.47692308 & 26        \\\\\n",
       "\t 1503960366 &  6.004667  &  6.386667  & 0.38200000 & 25        \\\\\n",
       "\t 7086361926 &  7.552083  &  7.773611  & 0.22152778 & 24        \\\\\n",
       "\t 4388161847 &  6.669565  &  7.053623  & 0.38405797 & 23        \\\\\n",
       "\t 6117666160 &  7.979630  &  8.502778  & 0.52314815 & 18        \\\\\n",
       "\t 2347167796 &  7.446667  &  8.188889  & 0.74222222 & 15        \\\\\n",
       "\t 8792009665 &  7.261111  &  7.563333  & 0.30222222 & 15        \\\\\n",
       "\t 4020332650 &  5.822917  &  6.329167  & 0.50625000 &  8        \\\\\n",
       "\t 1927972279 &  6.950000  &  7.296667  & 0.34666667 &  5        \\\\\n",
       "\t 4558609924 &  2.126667  &  2.333333  & 0.20666667 &  5        \\\\\n",
       "\t 1644430081 &  4.900000  &  5.766667  & 0.86666667 &  4        \\\\\n",
       "\t 1844505072 & 10.866667  & 16.016667  & 5.15000000 &  3        \\\\\n",
       "\t 6775888955 &  5.827778  &  6.150000  & 0.32222222 &  3        \\\\\n",
       "\t 8053475328 &  4.950000  &  5.027778  & 0.07777778 &  3        \\\\\n",
       "\t 7007744171 &  1.141667  &  1.191667  & 0.05000000 &  2        \\\\\n",
       "\t 2320127002 &  1.016667  &  1.150000  & 0.13333333 &  1        \\\\\n",
       "\\end{tabular}\n"
      ],
      "text/markdown": [
       "\n",
       "| Id | avg_sleeping_time | avg_in_bed_time | extra_avg_bed_time | total_records |\n",
       "|---|---|---|---|---|\n",
       "| 5553957443 |  7.724731  |  8.431183  | 0.70645161 | 31         |\n",
       "| 6962181067 |  7.466667  |  7.768817  | 0.30215054 | 31         |\n",
       "| 8378563200 |  7.418817  |  8.098925  | 0.68010753 | 31         |\n",
       "| 2026352035 |  8.436310  |  8.960714  | 0.52440476 | 28         |\n",
       "| 3977333714 |  4.894048  |  7.685714  | 2.79166667 | 28         |\n",
       "| 4445114986 |  6.419643  |  6.947024  | 0.52738095 | 28         |\n",
       "| 4702921684 |  6.958025  |  7.303704  | 0.34567901 | 27         |\n",
       "| 4319703577 |  7.944231  |  8.366026  | 0.42179487 | 26         |\n",
       "| 5577150313 |  7.200000  |  7.676923  | 0.47692308 | 26         |\n",
       "| 1503960366 |  6.004667  |  6.386667  | 0.38200000 | 25         |\n",
       "| 7086361926 |  7.552083  |  7.773611  | 0.22152778 | 24         |\n",
       "| 4388161847 |  6.669565  |  7.053623  | 0.38405797 | 23         |\n",
       "| 6117666160 |  7.979630  |  8.502778  | 0.52314815 | 18         |\n",
       "| 2347167796 |  7.446667  |  8.188889  | 0.74222222 | 15         |\n",
       "| 8792009665 |  7.261111  |  7.563333  | 0.30222222 | 15         |\n",
       "| 4020332650 |  5.822917  |  6.329167  | 0.50625000 |  8         |\n",
       "| 1927972279 |  6.950000  |  7.296667  | 0.34666667 |  5         |\n",
       "| 4558609924 |  2.126667  |  2.333333  | 0.20666667 |  5         |\n",
       "| 1644430081 |  4.900000  |  5.766667  | 0.86666667 |  4         |\n",
       "| 1844505072 | 10.866667  | 16.016667  | 5.15000000 |  3         |\n",
       "| 6775888955 |  5.827778  |  6.150000  | 0.32222222 |  3         |\n",
       "| 8053475328 |  4.950000  |  5.027778  | 0.07777778 |  3         |\n",
       "| 7007744171 |  1.141667  |  1.191667  | 0.05000000 |  2         |\n",
       "| 2320127002 |  1.016667  |  1.150000  | 0.13333333 |  1         |\n",
       "\n"
      ],
      "text/plain": [
       "   Id         avg_sleeping_time avg_in_bed_time extra_avg_bed_time\n",
       "1  5553957443  7.724731          8.431183       0.70645161        \n",
       "2  6962181067  7.466667          7.768817       0.30215054        \n",
       "3  8378563200  7.418817          8.098925       0.68010753        \n",
       "4  2026352035  8.436310          8.960714       0.52440476        \n",
       "5  3977333714  4.894048          7.685714       2.79166667        \n",
       "6  4445114986  6.419643          6.947024       0.52738095        \n",
       "7  4702921684  6.958025          7.303704       0.34567901        \n",
       "8  4319703577  7.944231          8.366026       0.42179487        \n",
       "9  5577150313  7.200000          7.676923       0.47692308        \n",
       "10 1503960366  6.004667          6.386667       0.38200000        \n",
       "11 7086361926  7.552083          7.773611       0.22152778        \n",
       "12 4388161847  6.669565          7.053623       0.38405797        \n",
       "13 6117666160  7.979630          8.502778       0.52314815        \n",
       "14 2347167796  7.446667          8.188889       0.74222222        \n",
       "15 8792009665  7.261111          7.563333       0.30222222        \n",
       "16 4020332650  5.822917          6.329167       0.50625000        \n",
       "17 1927972279  6.950000          7.296667       0.34666667        \n",
       "18 4558609924  2.126667          2.333333       0.20666667        \n",
       "19 1644430081  4.900000          5.766667       0.86666667        \n",
       "20 1844505072 10.866667         16.016667       5.15000000        \n",
       "21 6775888955  5.827778          6.150000       0.32222222        \n",
       "22 8053475328  4.950000          5.027778       0.07777778        \n",
       "23 7007744171  1.141667          1.191667       0.05000000        \n",
       "24 2320127002  1.016667          1.150000       0.13333333        \n",
       "   total_records\n",
       "1  31           \n",
       "2  31           \n",
       "3  31           \n",
       "4  28           \n",
       "5  28           \n",
       "6  28           \n",
       "7  27           \n",
       "8  26           \n",
       "9  26           \n",
       "10 25           \n",
       "11 24           \n",
       "12 23           \n",
       "13 18           \n",
       "14 15           \n",
       "15 15           \n",
       "16  8           \n",
       "17  5           \n",
       "18  5           \n",
       "19  4           \n",
       "20  3           \n",
       "21  3           \n",
       "22  3           \n",
       "23  2           \n",
       "24  1           "
      ]
     },
     "metadata": {},
     "output_type": "display_data"
    }
   ],
   "source": [
    "sleepday_states"
   ]
  },
  {
   "cell_type": "code",
   "execution_count": 22,
   "id": "19054387",
   "metadata": {},
   "outputs": [
    {
     "data": {
      "image/png": "[encoded data removed]",
      "text/plain": [
       "plot without title"
      ]
     },
     "metadata": {},
     "output_type": "display_data"
    }
   ],
   "source": [
    "ggplot(sleepday_states,aes(x = avg_sleeping_time, y= avg_in_bed_time))+\n",
    "    geom_point() +\n",
    "    labs(title = \"Average Spleeing Time vs Average In Bed Time\")"
   ]
  },
  {
   "cell_type": "markdown",
   "id": "900b03fc",
   "metadata": {},
   "source": [
    "There are 24 users, which is more than 70% of the total people(33)  share their sleeping data. In general, sleeping more and staying in the bed tend to be longer. However, to get the average value of sleeping time and the time in bed depends on the number of times data is recorded. From the sleepday_states, there are 9 out of 24 people record their sleeping data less than 10 times, which would not reflect their real sleeping and in-bed patterns and cause bias/outliers based on the sample size.\n",
    "\n",
    "The missing data, 7 users and people who only have less than 10 days of sleeping data, 17 out of 33 people, would highly suggest that users prefer to take off devices while sleeping.\n",
    "\n",
    "Let us check on the daily_activities dataset."
   ]
  },
  {
   "cell_type": "code",
   "execution_count": 23,
   "id": "ef9d90a5",
   "metadata": {},
   "outputs": [
    {
     "data": {
      "image/png": "[encoded data removed]",
      "text/plain": [
       "plot without title"
      ]
     },
     "metadata": {},
     "output_type": "display_data"
    }
   ],
   "source": [
    "ggplot(daily_activities, aes(weekdays(ActivityDate))) +\n",
    "    geom_bar() +\n",
    "    labs(x = \"Week days\", y= \"Total counts\", title=\"Weekdays of 33 participants use track their activties over a month\")"
   ]
  },
  {
   "cell_type": "code",
   "execution_count": 24,
   "id": "b5a81a4c",
   "metadata": {},
   "outputs": [
    {
     "data": {
      "text/html": [
       "<table>\n",
       "<thead><tr><th scope=col>weekdays(ActivityDate)</th><th scope=col>n</th></tr></thead>\n",
       "<tbody>\n",
       "\t<tr><td>Friday   </td><td>126      </td></tr>\n",
       "\t<tr><td>Monday   </td><td>120      </td></tr>\n",
       "\t<tr><td>Saturday </td><td>124      </td></tr>\n",
       "\t<tr><td>Sunday   </td><td>121      </td></tr>\n",
       "\t<tr><td>Thursday </td><td>147      </td></tr>\n",
       "\t<tr><td>Tuesday  </td><td>152      </td></tr>\n",
       "\t<tr><td>Wednesday</td><td>150      </td></tr>\n",
       "</tbody>\n",
       "</table>\n"
      ],
      "text/latex": [
       "\\begin{tabular}{r|ll}\n",
       " weekdays(ActivityDate) & n\\\\\n",
       "\\hline\n",
       "\t Friday    & 126      \\\\\n",
       "\t Monday    & 120      \\\\\n",
       "\t Saturday  & 124      \\\\\n",
       "\t Sunday    & 121      \\\\\n",
       "\t Thursday  & 147      \\\\\n",
       "\t Tuesday   & 152      \\\\\n",
       "\t Wednesday & 150      \\\\\n",
       "\\end{tabular}\n"
      ],
      "text/markdown": [
       "\n",
       "| weekdays(ActivityDate) | n |\n",
       "|---|---|\n",
       "| Friday    | 126       |\n",
       "| Monday    | 120       |\n",
       "| Saturday  | 124       |\n",
       "| Sunday    | 121       |\n",
       "| Thursday  | 147       |\n",
       "| Tuesday   | 152       |\n",
       "| Wednesday | 150       |\n",
       "\n"
      ],
      "text/plain": [
       "  weekdays(ActivityDate) n  \n",
       "1 Friday                 126\n",
       "2 Monday                 120\n",
       "3 Saturday               124\n",
       "4 Sunday                 121\n",
       "5 Thursday               147\n",
       "6 Tuesday                152\n",
       "7 Wednesday              150"
      ]
     },
     "metadata": {},
     "output_type": "display_data"
    }
   ],
   "source": [
    "daily_activities %>% \n",
    "    count(weekdays(ActivityDate))"
   ]
  },
  {
   "cell_type": "markdown",
   "id": "d02195af",
   "metadata": {},
   "source": [
    "Interestingly, Thursday, Tuesday, and Wednesday becomes the most popular days in the week to track daily activities. It would be great to have some additional information about the age of users to conduct possible reasons why this might happen."
   ]
  },
  {
   "cell_type": "code",
   "execution_count": 25,
   "id": "57b6d683",
   "metadata": {},
   "outputs": [
    {
     "data": {
      "text/html": [
       "<table>\n",
       "<thead><tr><th scope=col>Id</th><th scope=col>total_days</th><th scope=col>avg_steps</th><th scope=col>avg_distance</th><th scope=col>avg_LoggedActivitiesDistance</th><th scope=col>avg_VeryActiveDistance</th><th scope=col>avg_ModeratelyActiveDistance</th><th scope=col>avg_LightActiveDistance</th><th scope=col>avg_SedentaryActiveDistance</th><th scope=col>avg_VeryActiveMinutes</th><th scope=col>avg_FairlyActiveMinutes</th><th scope=col>avg_LightlyActiveMinutes</th><th scope=col>avg_SedentaryMinutes</th><th scope=col>avg_Calories</th></tr></thead>\n",
       "<tbody>\n",
       "\t<tr><td>8877689391  </td><td>31          </td><td>16040.032   </td><td>13.2129031  </td><td>0.00000000  </td><td>6.637419362 </td><td>0.33774193  </td><td>6.1887097   </td><td>0.0051612903</td><td>66.06451613 </td><td> 9.9354839  </td><td>234.70968   </td><td>1112.8710   </td><td>3420.258    </td></tr>\n",
       "\t<tr><td>8053475328  </td><td>31          </td><td>14763.290   </td><td>11.4751612  </td><td>0.00000000  </td><td>8.514838742 </td><td>0.42387096  </td><td>2.5338710   </td><td>0.0000000000</td><td>85.16129032 </td><td> 9.5806452  </td><td>150.96774   </td><td>1148.0000   </td><td>2945.806    </td></tr>\n",
       "\t<tr><td>2022484408  </td><td>31          </td><td>11370.645   </td><td> 8.0841935  </td><td>0.00000000  </td><td>2.421612884 </td><td>0.72000000  </td><td>4.9425806   </td><td>0.0000000000</td><td>36.29032258 </td><td>19.3548387  </td><td>257.45161   </td><td>1112.5806   </td><td>2509.968    </td></tr>\n",
       "\t<tr><td>7007744171  </td><td>26          </td><td>11323.423   </td><td> 8.0153846  </td><td>2.11867333  </td><td>2.414999987 </td><td>0.73846153  </td><td>4.8615384   </td><td>0.0007692308</td><td>31.03846154 </td><td>16.2692308  </td><td>280.73077   </td><td>1055.3462   </td><td>2544.000    </td></tr>\n",
       "\t<tr><td>3977333714  </td><td>30          </td><td>10984.567   </td><td> 7.5169999  </td><td>0.00000000  </td><td>1.614999982 </td><td>2.75099998  </td><td>3.1343333   </td><td>0.0000000000</td><td>18.90000000 </td><td>61.2666667  </td><td>174.76667   </td><td> 707.5333   </td><td>1513.667    </td></tr>\n",
       "\t<tr><td>4388161847  </td><td>31          </td><td>10813.935   </td><td> 8.3932259  </td><td>0.00000000  </td><td>1.719354835 </td><td>0.90193548  </td><td>5.3961290   </td><td>0.0000000000</td><td>23.16129032 </td><td>20.3548387  </td><td>229.35484   </td><td> 836.6774   </td><td>3093.871    </td></tr>\n",
       "\t<tr><td>6962181067  </td><td>31          </td><td> 9794.806   </td><td> 6.5858065  </td><td>0.32369965  </td><td>1.616451619 </td><td>0.95999999  </td><td>4.0016129   </td><td>0.0067741936</td><td>22.80645161 </td><td>18.5161290  </td><td>245.80645   </td><td> 662.3226   </td><td>1982.032    </td></tr>\n",
       "\t<tr><td>2347167796  </td><td>18          </td><td> 9519.667   </td><td> 6.3555555  </td><td>0.00000000  </td><td>1.059444433 </td><td>1.07499999  </td><td>4.2216667   </td><td>0.0000000000</td><td>13.50000000 </td><td>20.5555556  </td><td>252.50000   </td><td> 687.1667   </td><td>2043.444    </td></tr>\n",
       "\t<tr><td>7086361926  </td><td>31          </td><td> 9371.774   </td><td> 6.3880645  </td><td>0.00000000  </td><td>2.781290325 </td><td>0.77322580  </td><td>2.8187097   </td><td>0.0000000000</td><td>42.58064516 </td><td>25.3548387  </td><td>143.83871   </td><td> 850.4516   </td><td>2566.355    </td></tr>\n",
       "\t<tr><td>8378563200  </td><td>31          </td><td> 8717.710   </td><td> 6.9135485  </td><td>1.11615779  </td><td>2.503548402 </td><td>0.51903225  </td><td>3.8893548   </td><td>0.0000000000</td><td>58.67741935 </td><td>10.2580645  </td><td>156.09677   </td><td> 716.1290   </td><td>3436.581    </td></tr>\n",
       "\t<tr><td>5553957443  </td><td>31          </td><td> 8612.581   </td><td> 5.6396774  </td><td>0.00000000  </td><td>1.464193549 </td><td>0.66903226  </td><td>3.5045161   </td><td>0.0000000000</td><td>23.41935484 </td><td>13.0000000  </td><td>206.19355   </td><td> 668.3548   </td><td>1875.677    </td></tr>\n",
       "\t<tr><td>4702921684  </td><td>31          </td><td> 8572.065   </td><td> 6.9551613  </td><td>0.00000000  </td><td>0.417419355 </td><td>1.30483871  </td><td>5.2254839   </td><td>0.0000000000</td><td> 5.12903226 </td><td>26.0322581  </td><td>237.48387   </td><td> 766.4194   </td><td>2965.548    </td></tr>\n",
       "\t<tr><td>5577150313  </td><td>30          </td><td> 8304.433   </td><td> 6.2133333  </td><td>0.00000000  </td><td>3.113666656 </td><td>0.65800000  </td><td>2.4280000   </td><td>0.0000000000</td><td>87.33333333 </td><td>29.8333333  </td><td>147.93333   </td><td> 754.4333   </td><td>3359.633    </td></tr>\n",
       "\t<tr><td>4558609924  </td><td>31          </td><td> 7685.129   </td><td> 5.0806452  </td><td>0.00000000  </td><td>0.549354839 </td><td>0.68225807  </td><td>3.8477419   </td><td>0.0000000000</td><td>10.38709677 </td><td>13.7096774  </td><td>284.96774   </td><td>1093.6129   </td><td>2033.258    </td></tr>\n",
       "\t<tr><td>2873212765  </td><td>31          </td><td> 7555.774   </td><td> 5.1016129  </td><td>0.00000000  </td><td>0.676129031 </td><td>0.27612903  </td><td>4.1435484   </td><td>0.0051612902</td><td>14.09677419 </td><td> 6.1290323  </td><td>308.00000   </td><td>1097.1935   </td><td>1916.968    </td></tr>\n",
       "\t<tr><td>1644430081  </td><td>30          </td><td> 7282.967   </td><td> 5.2953334  </td><td>0.00000000  </td><td>0.730000001 </td><td>0.95100000  </td><td>3.6090000   </td><td>0.0039999999</td><td> 9.56666667 </td><td>21.3666667  </td><td>178.46667   </td><td>1161.8667   </td><td>2811.300    </td></tr>\n",
       "\t<tr><td>4319703577  </td><td>31          </td><td> 7268.839   </td><td> 4.8922580  </td><td>0.00000000  </td><td>0.278064516 </td><td>0.50225806  </td><td>3.7687096   </td><td>0.0000000000</td><td> 3.58064516 </td><td>12.3225806  </td><td>228.77419   </td><td> 735.8065   </td><td>2037.677    </td></tr>\n",
       "\t<tr><td>8583815059  </td><td>31          </td><td> 7198.516   </td><td> 5.6154838  </td><td>0.00000000  </td><td>0.798064526 </td><td>1.02064515  </td><td>2.6174193   </td><td>0.0000000000</td><td> 9.67741935 </td><td>22.1935484  </td><td>138.29032   </td><td>1267.2258   </td><td>2732.032    </td></tr>\n",
       "\t<tr><td>6117666160  </td><td>28          </td><td> 7046.714   </td><td> 5.3421429  </td><td>0.00000000  </td><td>0.128214285 </td><td>0.08392857  </td><td>4.8432143   </td><td>0.0000000000</td><td> 1.57142857 </td><td> 2.0357143  </td><td>288.35714   </td><td> 796.2857   </td><td>2261.143    </td></tr>\n",
       "\t<tr><td>3372868164  </td><td>20          </td><td> 6861.650   </td><td> 4.7070000  </td><td>0.00000000  </td><td>0.629499997 </td><td>0.15300000  </td><td>3.9100000   </td><td>0.0109999998</td><td> 9.15000000 </td><td> 4.1000000  </td><td>327.90000   </td><td>1077.5500   </td><td>1933.100    </td></tr>\n",
       "\t<tr><td>8253242879  </td><td>19          </td><td> 6482.158   </td><td> 4.6673685  </td><td>0.00000000  </td><td>2.214210490 </td><td>0.69578948  </td><td>1.7547368   </td><td>0.0005263158</td><td>20.52631579 </td><td>14.3157895  </td><td>116.89474   </td><td>1287.3684   </td><td>1788.000    </td></tr>\n",
       "\t<tr><td>1624580081  </td><td>31          </td><td> 5743.903   </td><td> 3.9148387  </td><td>0.00000000  </td><td>0.939354843 </td><td>0.36064516  </td><td>2.6067742   </td><td>0.0061290321</td><td> 8.67741935 </td><td> 5.8064516  </td><td>153.48387   </td><td>1257.7419   </td><td>1483.355    </td></tr>\n",
       "\t<tr><td>6290855005  </td><td>29          </td><td> 5649.552   </td><td> 4.2724138  </td><td>0.00000000  </td><td>0.085517242 </td><td>0.12827586  </td><td>4.0486207   </td><td>0.0086206895</td><td> 2.75862069 </td><td> 3.7931034  </td><td>227.44828   </td><td>1193.0345   </td><td>2599.621    </td></tr>\n",
       "\t<tr><td>2026352035  </td><td>31          </td><td> 5566.871   </td><td> 3.4548387  </td><td>0.00000000  </td><td>0.006129032 </td><td>0.01129032  </td><td>3.4361290   </td><td>0.0000000000</td><td> 0.09677419 </td><td> 0.2580645  </td><td>256.64516   </td><td> 689.4194   </td><td>1540.645    </td></tr>\n",
       "\t<tr><td>4445114986  </td><td>31          </td><td> 4796.548   </td><td> 3.2458064  </td><td>0.00000000  </td><td>0.523225811 </td><td>0.07548387  </td><td>2.6448387   </td><td>0.0000000000</td><td> 6.61290323 </td><td> 1.7419355  </td><td>209.09677   </td><td> 829.9032   </td><td>2186.194    </td></tr>\n",
       "\t<tr><td>2320127002  </td><td>31          </td><td> 4716.871   </td><td> 3.1877419  </td><td>0.00000000  </td><td>0.106774193 </td><td>0.09774193  </td><td>2.9803226   </td><td>0.0000000000</td><td> 1.35483871 </td><td> 2.5806452  </td><td>198.19355   </td><td>1220.0968   </td><td>1724.161    </td></tr>\n",
       "\t<tr><td>4057192912  </td><td> 4          </td><td> 3838.000   </td><td> 2.8625000  </td><td>0.00000000  </td><td>0.052499998 </td><td>0.06500000  </td><td>2.6875000   </td><td>0.0000000000</td><td> 0.75000000 </td><td> 1.5000000  </td><td>103.00000   </td><td>1217.2500   </td><td>1973.750    </td></tr>\n",
       "\t<tr><td>1844505072  </td><td>31          </td><td> 2580.065   </td><td> 1.7061290  </td><td>0.00000000  </td><td>0.008387097 </td><td>0.04903226  </td><td>1.6474193   </td><td>0.0000000000</td><td> 0.12903226 </td><td> 1.2903226  </td><td>115.45161   </td><td>1206.6129   </td><td>1573.484    </td></tr>\n",
       "\t<tr><td>6775888955  </td><td>26          </td><td> 2519.692   </td><td> 1.8134615  </td><td>0.07536908  </td><td>0.709230767 </td><td>0.38423077  </td><td>0.7115385   </td><td>0.0000000000</td><td>11.00000000 </td><td>14.8076923  </td><td> 40.15385   </td><td>1299.4231   </td><td>2131.769    </td></tr>\n",
       "\t<tr><td>4020332650  </td><td>31          </td><td> 2267.226   </td><td> 1.6261290  </td><td>0.00000000  </td><td>0.142258061 </td><td>0.12967742  </td><td>1.3083871   </td><td>0.0054838710</td><td> 5.19354839 </td><td> 5.3548387  </td><td> 76.93548   </td><td>1237.2581   </td><td>2385.806    </td></tr>\n",
       "\t<tr><td>8792009665  </td><td>29          </td><td> 1853.724   </td><td> 1.1865517  </td><td>0.00000000  </td><td>0.024827587 </td><td>0.05827586  </td><td>1.1034483   </td><td>0.0000000000</td><td> 0.96551724 </td><td> 4.0344828  </td><td> 91.79310   </td><td>1060.4828   </td><td>1962.310    </td></tr>\n",
       "\t<tr><td>1927972279  </td><td>31          </td><td>  916.129   </td><td> 0.6345161  </td><td>0.00000000  </td><td>0.095806451 </td><td>0.03129032  </td><td>0.5070968   </td><td>0.0000000000</td><td> 1.32258065 </td><td> 0.7741935  </td><td> 38.58065   </td><td>1317.4194   </td><td>2172.806    </td></tr>\n",
       "</tbody>\n",
       "</table>\n"
      ],
      "text/latex": [
       "\\begin{tabular}{r|llllllllllllll}\n",
       " Id & total\\_days & avg\\_steps & avg\\_distance & avg\\_LoggedActivitiesDistance & avg\\_VeryActiveDistance & avg\\_ModeratelyActiveDistance & avg\\_LightActiveDistance & avg\\_SedentaryActiveDistance & avg\\_VeryActiveMinutes & avg\\_FairlyActiveMinutes & avg\\_LightlyActiveMinutes & avg\\_SedentaryMinutes & avg\\_Calories\\\\\n",
       "\\hline\n",
       "\t 8877689391   & 31           & 16040.032    & 13.2129031   & 0.00000000   & 6.637419362  & 0.33774193   & 6.1887097    & 0.0051612903 & 66.06451613  &  9.9354839   & 234.70968    & 1112.8710    & 3420.258    \\\\\n",
       "\t 8053475328   & 31           & 14763.290    & 11.4751612   & 0.00000000   & 8.514838742  & 0.42387096   & 2.5338710    & 0.0000000000 & 85.16129032  &  9.5806452   & 150.96774    & 1148.0000    & 2945.806    \\\\\n",
       "\t 2022484408   & 31           & 11370.645    &  8.0841935   & 0.00000000   & 2.421612884  & 0.72000000   & 4.9425806    & 0.0000000000 & 36.29032258  & 19.3548387   & 257.45161    & 1112.5806    & 2509.968    \\\\\n",
       "\t 7007744171   & 26           & 11323.423    &  8.0153846   & 2.11867333   & 2.414999987  & 0.73846153   & 4.8615384    & 0.0007692308 & 31.03846154  & 16.2692308   & 280.73077    & 1055.3462    & 2544.000    \\\\\n",
       "\t 3977333714   & 30           & 10984.567    &  7.5169999   & 0.00000000   & 1.614999982  & 2.75099998   & 3.1343333    & 0.0000000000 & 18.90000000  & 61.2666667   & 174.76667    &  707.5333    & 1513.667    \\\\\n",
       "\t 4388161847   & 31           & 10813.935    &  8.3932259   & 0.00000000   & 1.719354835  & 0.90193548   & 5.3961290    & 0.0000000000 & 23.16129032  & 20.3548387   & 229.35484    &  836.6774    & 3093.871    \\\\\n",
       "\t 6962181067   & 31           &  9794.806    &  6.5858065   & 0.32369965   & 1.616451619  & 0.95999999   & 4.0016129    & 0.0067741936 & 22.80645161  & 18.5161290   & 245.80645    &  662.3226    & 1982.032    \\\\\n",
       "\t 2347167796   & 18           &  9519.667    &  6.3555555   & 0.00000000   & 1.059444433  & 1.07499999   & 4.2216667    & 0.0000000000 & 13.50000000  & 20.5555556   & 252.50000    &  687.1667    & 2043.444    \\\\\n",
       "\t 7086361926   & 31           &  9371.774    &  6.3880645   & 0.00000000   & 2.781290325  & 0.77322580   & 2.8187097    & 0.0000000000 & 42.58064516  & 25.3548387   & 143.83871    &  850.4516    & 2566.355    \\\\\n",
       "\t 8378563200   & 31           &  8717.710    &  6.9135485   & 1.11615779   & 2.503548402  & 0.51903225   & 3.8893548    & 0.0000000000 & 58.67741935  & 10.2580645   & 156.09677    &  716.1290    & 3436.581    \\\\\n",
       "\t 5553957443   & 31           &  8612.581    &  5.6396774   & 0.00000000   & 1.464193549  & 0.66903226   & 3.5045161    & 0.0000000000 & 23.41935484  & 13.0000000   & 206.19355    &  668.3548    & 1875.677    \\\\\n",
       "\t 4702921684   & 31           &  8572.065    &  6.9551613   & 0.00000000   & 0.417419355  & 1.30483871   & 5.2254839    & 0.0000000000 &  5.12903226  & 26.0322581   & 237.48387    &  766.4194    & 2965.548    \\\\\n",
       "\t 5577150313   & 30           &  8304.433    &  6.2133333   & 0.00000000   & 3.113666656  & 0.65800000   & 2.4280000    & 0.0000000000 & 87.33333333  & 29.8333333   & 147.93333    &  754.4333    & 3359.633    \\\\\n",
       "\t 4558609924   & 31           &  7685.129    &  5.0806452   & 0.00000000   & 0.549354839  & 0.68225807   & 3.8477419    & 0.0000000000 & 10.38709677  & 13.7096774   & 284.96774    & 1093.6129    & 2033.258    \\\\\n",
       "\t 2873212765   & 31           &  7555.774    &  5.1016129   & 0.00000000   & 0.676129031  & 0.27612903   & 4.1435484    & 0.0051612902 & 14.09677419  &  6.1290323   & 308.00000    & 1097.1935    & 1916.968    \\\\\n",
       "\t 1644430081   & 30           &  7282.967    &  5.2953334   & 0.00000000   & 0.730000001  & 0.95100000   & 3.6090000    & 0.0039999999 &  9.56666667  & 21.3666667   & 178.46667    & 1161.8667    & 2811.300    \\\\\n",
       "\t 4319703577   & 31           &  7268.839    &  4.8922580   & 0.00000000   & 0.278064516  & 0.50225806   & 3.7687096    & 0.0000000000 &  3.58064516  & 12.3225806   & 228.77419    &  735.8065    & 2037.677    \\\\\n",
       "\t 8583815059   & 31           &  7198.516    &  5.6154838   & 0.00000000   & 0.798064526  & 1.02064515   & 2.6174193    & 0.0000000000 &  9.67741935  & 22.1935484   & 138.29032    & 1267.2258    & 2732.032    \\\\\n",
       "\t 6117666160   & 28           &  7046.714    &  5.3421429   & 0.00000000   & 0.128214285  & 0.08392857   & 4.8432143    & 0.0000000000 &  1.57142857  &  2.0357143   & 288.35714    &  796.2857    & 2261.143    \\\\\n",
       "\t 3372868164   & 20           &  6861.650    &  4.7070000   & 0.00000000   & 0.629499997  & 0.15300000   & 3.9100000    & 0.0109999998 &  9.15000000  &  4.1000000   & 327.90000    & 1077.5500    & 1933.100    \\\\\n",
       "\t 8253242879   & 19           &  6482.158    &  4.6673685   & 0.00000000   & 2.214210490  & 0.69578948   & 1.7547368    & 0.0005263158 & 20.52631579  & 14.3157895   & 116.89474    & 1287.3684    & 1788.000    \\\\\n",
       "\t 1624580081   & 31           &  5743.903    &  3.9148387   & 0.00000000   & 0.939354843  & 0.36064516   & 2.6067742    & 0.0061290321 &  8.67741935  &  5.8064516   & 153.48387    & 1257.7419    & 1483.355    \\\\\n",
       "\t 6290855005   & 29           &  5649.552    &  4.2724138   & 0.00000000   & 0.085517242  & 0.12827586   & 4.0486207    & 0.0086206895 &  2.75862069  &  3.7931034   & 227.44828    & 1193.0345    & 2599.621    \\\\\n",
       "\t 2026352035   & 31           &  5566.871    &  3.4548387   & 0.00000000   & 0.006129032  & 0.01129032   & 3.4361290    & 0.0000000000 &  0.09677419  &  0.2580645   & 256.64516    &  689.4194    & 1540.645    \\\\\n",
       "\t 4445114986   & 31           &  4796.548    &  3.2458064   & 0.00000000   & 0.523225811  & 0.07548387   & 2.6448387    & 0.0000000000 &  6.61290323  &  1.7419355   & 209.09677    &  829.9032    & 2186.194    \\\\\n",
       "\t 2320127002   & 31           &  4716.871    &  3.1877419   & 0.00000000   & 0.106774193  & 0.09774193   & 2.9803226    & 0.0000000000 &  1.35483871  &  2.5806452   & 198.19355    & 1220.0968    & 1724.161    \\\\\n",
       "\t 4057192912   &  4           &  3838.000    &  2.8625000   & 0.00000000   & 0.052499998  & 0.06500000   & 2.6875000    & 0.0000000000 &  0.75000000  &  1.5000000   & 103.00000    & 1217.2500    & 1973.750    \\\\\n",
       "\t 1844505072   & 31           &  2580.065    &  1.7061290   & 0.00000000   & 0.008387097  & 0.04903226   & 1.6474193    & 0.0000000000 &  0.12903226  &  1.2903226   & 115.45161    & 1206.6129    & 1573.484    \\\\\n",
       "\t 6775888955   & 26           &  2519.692    &  1.8134615   & 0.07536908   & 0.709230767  & 0.38423077   & 0.7115385    & 0.0000000000 & 11.00000000  & 14.8076923   &  40.15385    & 1299.4231    & 2131.769    \\\\\n",
       "\t 4020332650   & 31           &  2267.226    &  1.6261290   & 0.00000000   & 0.142258061  & 0.12967742   & 1.3083871    & 0.0054838710 &  5.19354839  &  5.3548387   &  76.93548    & 1237.2581    & 2385.806    \\\\\n",
       "\t 8792009665   & 29           &  1853.724    &  1.1865517   & 0.00000000   & 0.024827587  & 0.05827586   & 1.1034483    & 0.0000000000 &  0.96551724  &  4.0344828   &  91.79310    & 1060.4828    & 1962.310    \\\\\n",
       "\t 1927972279   & 31           &   916.129    &  0.6345161   & 0.00000000   & 0.095806451  & 0.03129032   & 0.5070968    & 0.0000000000 &  1.32258065  &  0.7741935   &  38.58065    & 1317.4194    & 2172.806    \\\\\n",
       "\\end{tabular}\n"
      ],
      "text/markdown": [
       "\n",
       "| Id | total_days | avg_steps | avg_distance | avg_LoggedActivitiesDistance | avg_VeryActiveDistance | avg_ModeratelyActiveDistance | avg_LightActiveDistance | avg_SedentaryActiveDistance | avg_VeryActiveMinutes | avg_FairlyActiveMinutes | avg_LightlyActiveMinutes | avg_SedentaryMinutes | avg_Calories |\n",
       "|---|---|---|---|---|---|---|---|---|---|---|---|---|---|\n",
       "| 8877689391   | 31           | 16040.032    | 13.2129031   | 0.00000000   | 6.637419362  | 0.33774193   | 6.1887097    | 0.0051612903 | 66.06451613  |  9.9354839   | 234.70968    | 1112.8710    | 3420.258     |\n",
       "| 8053475328   | 31           | 14763.290    | 11.4751612   | 0.00000000   | 8.514838742  | 0.42387096   | 2.5338710    | 0.0000000000 | 85.16129032  |  9.5806452   | 150.96774    | 1148.0000    | 2945.806     |\n",
       "| 2022484408   | 31           | 11370.645    |  8.0841935   | 0.00000000   | 2.421612884  | 0.72000000   | 4.9425806    | 0.0000000000 | 36.29032258  | 19.3548387   | 257.45161    | 1112.5806    | 2509.968     |\n",
       "| 7007744171   | 26           | 11323.423    |  8.0153846   | 2.11867333   | 2.414999987  | 0.73846153   | 4.8615384    | 0.0007692308 | 31.03846154  | 16.2692308   | 280.73077    | 1055.3462    | 2544.000     |\n",
       "| 3977333714   | 30           | 10984.567    |  7.5169999   | 0.00000000   | 1.614999982  | 2.75099998   | 3.1343333    | 0.0000000000 | 18.90000000  | 61.2666667   | 174.76667    |  707.5333    | 1513.667     |\n",
       "| 4388161847   | 31           | 10813.935    |  8.3932259   | 0.00000000   | 1.719354835  | 0.90193548   | 5.3961290    | 0.0000000000 | 23.16129032  | 20.3548387   | 229.35484    |  836.6774    | 3093.871     |\n",
       "| 6962181067   | 31           |  9794.806    |  6.5858065   | 0.32369965   | 1.616451619  | 0.95999999   | 4.0016129    | 0.0067741936 | 22.80645161  | 18.5161290   | 245.80645    |  662.3226    | 1982.032     |\n",
       "| 2347167796   | 18           |  9519.667    |  6.3555555   | 0.00000000   | 1.059444433  | 1.07499999   | 4.2216667    | 0.0000000000 | 13.50000000  | 20.5555556   | 252.50000    |  687.1667    | 2043.444     |\n",
       "| 7086361926   | 31           |  9371.774    |  6.3880645   | 0.00000000   | 2.781290325  | 0.77322580   | 2.8187097    | 0.0000000000 | 42.58064516  | 25.3548387   | 143.83871    |  850.4516    | 2566.355     |\n",
       "| 8378563200   | 31           |  8717.710    |  6.9135485   | 1.11615779   | 2.503548402  | 0.51903225   | 3.8893548    | 0.0000000000 | 58.67741935  | 10.2580645   | 156.09677    |  716.1290    | 3436.581     |\n",
       "| 5553957443   | 31           |  8612.581    |  5.6396774   | 0.00000000   | 1.464193549  | 0.66903226   | 3.5045161    | 0.0000000000 | 23.41935484  | 13.0000000   | 206.19355    |  668.3548    | 1875.677     |\n",
       "| 4702921684   | 31           |  8572.065    |  6.9551613   | 0.00000000   | 0.417419355  | 1.30483871   | 5.2254839    | 0.0000000000 |  5.12903226  | 26.0322581   | 237.48387    |  766.4194    | 2965.548     |\n",
       "| 5577150313   | 30           |  8304.433    |  6.2133333   | 0.00000000   | 3.113666656  | 0.65800000   | 2.4280000    | 0.0000000000 | 87.33333333  | 29.8333333   | 147.93333    |  754.4333    | 3359.633     |\n",
       "| 4558609924   | 31           |  7685.129    |  5.0806452   | 0.00000000   | 0.549354839  | 0.68225807   | 3.8477419    | 0.0000000000 | 10.38709677  | 13.7096774   | 284.96774    | 1093.6129    | 2033.258     |\n",
       "| 2873212765   | 31           |  7555.774    |  5.1016129   | 0.00000000   | 0.676129031  | 0.27612903   | 4.1435484    | 0.0051612902 | 14.09677419  |  6.1290323   | 308.00000    | 1097.1935    | 1916.968     |\n",
       "| 1644430081   | 30           |  7282.967    |  5.2953334   | 0.00000000   | 0.730000001  | 0.95100000   | 3.6090000    | 0.0039999999 |  9.56666667  | 21.3666667   | 178.46667    | 1161.8667    | 2811.300     |\n",
       "| 4319703577   | 31           |  7268.839    |  4.8922580   | 0.00000000   | 0.278064516  | 0.50225806   | 3.7687096    | 0.0000000000 |  3.58064516  | 12.3225806   | 228.77419    |  735.8065    | 2037.677     |\n",
       "| 8583815059   | 31           |  7198.516    |  5.6154838   | 0.00000000   | 0.798064526  | 1.02064515   | 2.6174193    | 0.0000000000 |  9.67741935  | 22.1935484   | 138.29032    | 1267.2258    | 2732.032     |\n",
       "| 6117666160   | 28           |  7046.714    |  5.3421429   | 0.00000000   | 0.128214285  | 0.08392857   | 4.8432143    | 0.0000000000 |  1.57142857  |  2.0357143   | 288.35714    |  796.2857    | 2261.143     |\n",
       "| 3372868164   | 20           |  6861.650    |  4.7070000   | 0.00000000   | 0.629499997  | 0.15300000   | 3.9100000    | 0.0109999998 |  9.15000000  |  4.1000000   | 327.90000    | 1077.5500    | 1933.100     |\n",
       "| 8253242879   | 19           |  6482.158    |  4.6673685   | 0.00000000   | 2.214210490  | 0.69578948   | 1.7547368    | 0.0005263158 | 20.52631579  | 14.3157895   | 116.89474    | 1287.3684    | 1788.000     |\n",
       "| 1624580081   | 31           |  5743.903    |  3.9148387   | 0.00000000   | 0.939354843  | 0.36064516   | 2.6067742    | 0.0061290321 |  8.67741935  |  5.8064516   | 153.48387    | 1257.7419    | 1483.355     |\n",
       "| 6290855005   | 29           |  5649.552    |  4.2724138   | 0.00000000   | 0.085517242  | 0.12827586   | 4.0486207    | 0.0086206895 |  2.75862069  |  3.7931034   | 227.44828    | 1193.0345    | 2599.621     |\n",
       "| 2026352035   | 31           |  5566.871    |  3.4548387   | 0.00000000   | 0.006129032  | 0.01129032   | 3.4361290    | 0.0000000000 |  0.09677419  |  0.2580645   | 256.64516    |  689.4194    | 1540.645     |\n",
       "| 4445114986   | 31           |  4796.548    |  3.2458064   | 0.00000000   | 0.523225811  | 0.07548387   | 2.6448387    | 0.0000000000 |  6.61290323  |  1.7419355   | 209.09677    |  829.9032    | 2186.194     |\n",
       "| 2320127002   | 31           |  4716.871    |  3.1877419   | 0.00000000   | 0.106774193  | 0.09774193   | 2.9803226    | 0.0000000000 |  1.35483871  |  2.5806452   | 198.19355    | 1220.0968    | 1724.161     |\n",
       "| 4057192912   |  4           |  3838.000    |  2.8625000   | 0.00000000   | 0.052499998  | 0.06500000   | 2.6875000    | 0.0000000000 |  0.75000000  |  1.5000000   | 103.00000    | 1217.2500    | 1973.750     |\n",
       "| 1844505072   | 31           |  2580.065    |  1.7061290   | 0.00000000   | 0.008387097  | 0.04903226   | 1.6474193    | 0.0000000000 |  0.12903226  |  1.2903226   | 115.45161    | 1206.6129    | 1573.484     |\n",
       "| 6775888955   | 26           |  2519.692    |  1.8134615   | 0.07536908   | 0.709230767  | 0.38423077   | 0.7115385    | 0.0000000000 | 11.00000000  | 14.8076923   |  40.15385    | 1299.4231    | 2131.769     |\n",
       "| 4020332650   | 31           |  2267.226    |  1.6261290   | 0.00000000   | 0.142258061  | 0.12967742   | 1.3083871    | 0.0054838710 |  5.19354839  |  5.3548387   |  76.93548    | 1237.2581    | 2385.806     |\n",
       "| 8792009665   | 29           |  1853.724    |  1.1865517   | 0.00000000   | 0.024827587  | 0.05827586   | 1.1034483    | 0.0000000000 |  0.96551724  |  4.0344828   |  91.79310    | 1060.4828    | 1962.310     |\n",
       "| 1927972279   | 31           |   916.129    |  0.6345161   | 0.00000000   | 0.095806451  | 0.03129032   | 0.5070968    | 0.0000000000 |  1.32258065  |  0.7741935   |  38.58065    | 1317.4194    | 2172.806     |\n",
       "\n"
      ],
      "text/plain": [
       "   Id         total_days avg_steps avg_distance avg_LoggedActivitiesDistance\n",
       "1  8877689391 31         16040.032 13.2129031   0.00000000                  \n",
       "2  8053475328 31         14763.290 11.4751612   0.00000000                  \n",
       "3  2022484408 31         11370.645  8.0841935   0.00000000                  \n",
       "4  7007744171 26         11323.423  8.0153846   2.11867333                  \n",
       "5  3977333714 30         10984.567  7.5169999   0.00000000                  \n",
       "6  4388161847 31         10813.935  8.3932259   0.00000000                  \n",
       "7  6962181067 31          9794.806  6.5858065   0.32369965                  \n",
       "8  2347167796 18          9519.667  6.3555555   0.00000000                  \n",
       "9  7086361926 31          9371.774  6.3880645   0.00000000                  \n",
       "10 8378563200 31          8717.710  6.9135485   1.11615779                  \n",
       "11 5553957443 31          8612.581  5.6396774   0.00000000                  \n",
       "12 4702921684 31          8572.065  6.9551613   0.00000000                  \n",
       "13 5577150313 30          8304.433  6.2133333   0.00000000                  \n",
       "14 4558609924 31          7685.129  5.0806452   0.00000000                  \n",
       "15 2873212765 31          7555.774  5.1016129   0.00000000                  \n",
       "16 1644430081 30          7282.967  5.2953334   0.00000000                  \n",
       "17 4319703577 31          7268.839  4.8922580   0.00000000                  \n",
       "18 8583815059 31          7198.516  5.6154838   0.00000000                  \n",
       "19 6117666160 28          7046.714  5.3421429   0.00000000                  \n",
       "20 3372868164 20          6861.650  4.7070000   0.00000000                  \n",
       "21 8253242879 19          6482.158  4.6673685   0.00000000                  \n",
       "22 1624580081 31          5743.903  3.9148387   0.00000000                  \n",
       "23 6290855005 29          5649.552  4.2724138   0.00000000                  \n",
       "24 2026352035 31          5566.871  3.4548387   0.00000000                  \n",
       "25 4445114986 31          4796.548  3.2458064   0.00000000                  \n",
       "26 2320127002 31          4716.871  3.1877419   0.00000000                  \n",
       "27 4057192912  4          3838.000  2.8625000   0.00000000                  \n",
       "28 1844505072 31          2580.065  1.7061290   0.00000000                  \n",
       "29 6775888955 26          2519.692  1.8134615   0.07536908                  \n",
       "30 4020332650 31          2267.226  1.6261290   0.00000000                  \n",
       "31 8792009665 29          1853.724  1.1865517   0.00000000                  \n",
       "32 1927972279 31           916.129  0.6345161   0.00000000                  \n",
       "   avg_VeryActiveDistance avg_ModeratelyActiveDistance avg_LightActiveDistance\n",
       "1  6.637419362            0.33774193                   6.1887097              \n",
       "2  8.514838742            0.42387096                   2.5338710              \n",
       "3  2.421612884            0.72000000                   4.9425806              \n",
       "4  2.414999987            0.73846153                   4.8615384              \n",
       "5  1.614999982            2.75099998                   3.1343333              \n",
       "6  1.719354835            0.90193548                   5.3961290              \n",
       "7  1.616451619            0.95999999                   4.0016129              \n",
       "8  1.059444433            1.07499999                   4.2216667              \n",
       "9  2.781290325            0.77322580                   2.8187097              \n",
       "10 2.503548402            0.51903225                   3.8893548              \n",
       "11 1.464193549            0.66903226                   3.5045161              \n",
       "12 0.417419355            1.30483871                   5.2254839              \n",
       "13 3.113666656            0.65800000                   2.4280000              \n",
       "14 0.549354839            0.68225807                   3.8477419              \n",
       "15 0.676129031            0.27612903                   4.1435484              \n",
       "16 0.730000001            0.95100000                   3.6090000              \n",
       "17 0.278064516            0.50225806                   3.7687096              \n",
       "18 0.798064526            1.02064515                   2.6174193              \n",
       "19 0.128214285            0.08392857                   4.8432143              \n",
       "20 0.629499997            0.15300000                   3.9100000              \n",
       "21 2.214210490            0.69578948                   1.7547368              \n",
       "22 0.939354843            0.36064516                   2.6067742              \n",
       "23 0.085517242            0.12827586                   4.0486207              \n",
       "24 0.006129032            0.01129032                   3.4361290              \n",
       "25 0.523225811            0.07548387                   2.6448387              \n",
       "26 0.106774193            0.09774193                   2.9803226              \n",
       "27 0.052499998            0.06500000                   2.6875000              \n",
       "28 0.008387097            0.04903226                   1.6474193              \n",
       "29 0.709230767            0.38423077                   0.7115385              \n",
       "30 0.142258061            0.12967742                   1.3083871              \n",
       "31 0.024827587            0.05827586                   1.1034483              \n",
       "32 0.095806451            0.03129032                   0.5070968              \n",
       "   avg_SedentaryActiveDistance avg_VeryActiveMinutes avg_FairlyActiveMinutes\n",
       "1  0.0051612903                66.06451613            9.9354839             \n",
       "2  0.0000000000                85.16129032            9.5806452             \n",
       "3  0.0000000000                36.29032258           19.3548387             \n",
       "4  0.0007692308                31.03846154           16.2692308             \n",
       "5  0.0000000000                18.90000000           61.2666667             \n",
       "6  0.0000000000                23.16129032           20.3548387             \n",
       "7  0.0067741936                22.80645161           18.5161290             \n",
       "8  0.0000000000                13.50000000           20.5555556             \n",
       "9  0.0000000000                42.58064516           25.3548387             \n",
       "10 0.0000000000                58.67741935           10.2580645             \n",
       "11 0.0000000000                23.41935484           13.0000000             \n",
       "12 0.0000000000                 5.12903226           26.0322581             \n",
       "13 0.0000000000                87.33333333           29.8333333             \n",
       "14 0.0000000000                10.38709677           13.7096774             \n",
       "15 0.0051612902                14.09677419            6.1290323             \n",
       "16 0.0039999999                 9.56666667           21.3666667             \n",
       "17 0.0000000000                 3.58064516           12.3225806             \n",
       "18 0.0000000000                 9.67741935           22.1935484             \n",
       "19 0.0000000000                 1.57142857            2.0357143             \n",
       "20 0.0109999998                 9.15000000            4.1000000             \n",
       "21 0.0005263158                20.52631579           14.3157895             \n",
       "22 0.0061290321                 8.67741935            5.8064516             \n",
       "23 0.0086206895                 2.75862069            3.7931034             \n",
       "24 0.0000000000                 0.09677419            0.2580645             \n",
       "25 0.0000000000                 6.61290323            1.7419355             \n",
       "26 0.0000000000                 1.35483871            2.5806452             \n",
       "27 0.0000000000                 0.75000000            1.5000000             \n",
       "28 0.0000000000                 0.12903226            1.2903226             \n",
       "29 0.0000000000                11.00000000           14.8076923             \n",
       "30 0.0054838710                 5.19354839            5.3548387             \n",
       "31 0.0000000000                 0.96551724            4.0344828             \n",
       "32 0.0000000000                 1.32258065            0.7741935             \n",
       "   avg_LightlyActiveMinutes avg_SedentaryMinutes avg_Calories\n",
       "1  234.70968                1112.8710            3420.258    \n",
       "2  150.96774                1148.0000            2945.806    \n",
       "3  257.45161                1112.5806            2509.968    \n",
       "4  280.73077                1055.3462            2544.000    \n",
       "5  174.76667                 707.5333            1513.667    \n",
       "6  229.35484                 836.6774            3093.871    \n",
       "7  245.80645                 662.3226            1982.032    \n",
       "8  252.50000                 687.1667            2043.444    \n",
       "9  143.83871                 850.4516            2566.355    \n",
       "10 156.09677                 716.1290            3436.581    \n",
       "11 206.19355                 668.3548            1875.677    \n",
       "12 237.48387                 766.4194            2965.548    \n",
       "13 147.93333                 754.4333            3359.633    \n",
       "14 284.96774                1093.6129            2033.258    \n",
       "15 308.00000                1097.1935            1916.968    \n",
       "16 178.46667                1161.8667            2811.300    \n",
       "17 228.77419                 735.8065            2037.677    \n",
       "18 138.29032                1267.2258            2732.032    \n",
       "19 288.35714                 796.2857            2261.143    \n",
       "20 327.90000                1077.5500            1933.100    \n",
       "21 116.89474                1287.3684            1788.000    \n",
       "22 153.48387                1257.7419            1483.355    \n",
       "23 227.44828                1193.0345            2599.621    \n",
       "24 256.64516                 689.4194            1540.645    \n",
       "25 209.09677                 829.9032            2186.194    \n",
       "26 198.19355                1220.0968            1724.161    \n",
       "27 103.00000                1217.2500            1973.750    \n",
       "28 115.45161                1206.6129            1573.484    \n",
       "29  40.15385                1299.4231            2131.769    \n",
       "30  76.93548                1237.2581            2385.806    \n",
       "31  91.79310                1060.4828            1962.310    \n",
       "32  38.58065                1317.4194            2172.806    "
      ]
     },
     "metadata": {},
     "output_type": "display_data"
    }
   ],
   "source": [
    "# check average stat for each users\n",
    "daily_stat <- daily_activities %>%\n",
    "    filter(duplicated(ActivityDate)| n() == 1)%>%\n",
    "    group_by(Id)%>%\n",
    "    summarise(\n",
    "              total_days = n() ,\n",
    "              avg_steps = mean(TotalSteps),\n",
    "              avg_distance = mean(TotalDistance),\n",
    "              avg_LoggedActivitiesDistance = mean(LoggedActivitiesDistance),\n",
    "              avg_VeryActiveDistance = mean(VeryActiveDistance),\n",
    "              avg_ModeratelyActiveDistance = mean(ModeratelyActiveDistance),\n",
    "              avg_LightActiveDistance  = mean(LightActiveDistance),\n",
    "              avg_SedentaryActiveDistance = mean(SedentaryActiveDistance),\n",
    "              avg_VeryActiveMinutes = mean(VeryActiveMinutes),\n",
    "              avg_FairlyActiveMinutes = mean(FairlyActiveMinutes),\n",
    "              avg_LightlyActiveMinutes = mean(LightlyActiveMinutes),\n",
    "              avg_SedentaryMinutes = mean(SedentaryMinutes),\n",
    "              avg_Calories = mean(Calories)) %>%\n",
    "    arrange(desc(avg_steps))\n",
    "daily_stat"
   ]
  },
  {
   "cell_type": "code",
   "execution_count": 26,
   "id": "09b80802",
   "metadata": {},
   "outputs": [
    {
     "data": {
      "text/html": [
       "'Total number of users keep tracking their daily activities over 30 days is 20.'"
      ],
      "text/latex": [
       "'Total number of users keep tracking their daily activities over 30 days is 20.'"
      ],
      "text/markdown": [
       "'Total number of users keep tracking their daily activities over 30 days is 20.'"
      ],
      "text/plain": [
       "[1] \"Total number of users keep tracking their daily activities over 30 days is 20.\""
      ]
     },
     "metadata": {},
     "output_type": "display_data"
    }
   ],
   "source": [
    "# focuse on users for 30 days records\n",
    "a_month_users <- daily_stat %>%\n",
    "    filter(total_days == 31)\n",
    "sprintf(\"Total number of users keep tracking their daily activities over 30 days is %i.\", nrow(a_month_users))"
   ]
  },
  {
   "cell_type": "code",
   "execution_count": 27,
   "id": "ddc062d1",
   "metadata": {},
   "outputs": [
    {
     "data": {
      "text/html": [
       "<table>\n",
       "<thead><tr><th scope=col>steps_less_5000</th><th scope=col>steps_between_5000_and_10000</th><th scope=col>steps_more_than_10000</th></tr></thead>\n",
       "<tbody>\n",
       "\t<tr><td>5 </td><td>11</td><td>4 </td></tr>\n",
       "</tbody>\n",
       "</table>\n"
      ],
      "text/latex": [
       "\\begin{tabular}{r|lll}\n",
       " steps\\_less\\_5000 & steps\\_between\\_5000\\_and\\_10000 & steps\\_more\\_than\\_10000\\\\\n",
       "\\hline\n",
       "\t 5  & 11 & 4 \\\\\n",
       "\\end{tabular}\n"
      ],
      "text/markdown": [
       "\n",
       "| steps_less_5000 | steps_between_5000_and_10000 | steps_more_than_10000 |\n",
       "|---|---|---|\n",
       "| 5  | 11 | 4  |\n",
       "\n"
      ],
      "text/plain": [
       "  steps_less_5000 steps_between_5000_and_10000 steps_more_than_10000\n",
       "1 5               11                           4                    "
      ]
     },
     "metadata": {},
     "output_type": "display_data"
    }
   ],
   "source": [
    "#check the number of people for different total steps\n",
    "a_month_users %>%\n",
    "    summarise( steps_less_5000 = sum(avg_steps < 5000),\n",
    "               steps_between_5000_and_10000 = sum(avg_steps >= 5000 & avg_steps <= 10000),\n",
    "               steps_more_than_10000 = sum(avg_steps > 10000))"
   ]
  },
  {
   "cell_type": "code",
   "execution_count": 28,
   "id": "e73296cb",
   "metadata": {},
   "outputs": [],
   "source": [
    "# steps < 5000\n",
    "less_5000_steps<-a_month_users %>%\n",
    "    filter(avg_steps < 5000)\n",
    "\n",
    "# 5000 <= steps <= 10000\n",
    "steps_between_5000_and_10000 <- a_month_users%>%\n",
    "    filter(avg_steps >= 5000 & avg_steps <= 10000)\n",
    "\n",
    "# steps > 100000\n",
    "steps_more_than_10000 <- a_month_users%>%\n",
    "    filter(avg_steps > 10000)"
   ]
  },
  {
   "cell_type": "code",
   "execution_count": 29,
   "id": "ba5dda8a",
   "metadata": {},
   "outputs": [],
   "source": [
    "point_plot <- function (df1, df2, title){\n",
    "    #This function is for ploting Total steps vs Calories for different group of Ids in daily_activities\n",
    "        \n",
    "    df1 %>% \n",
    "        filter(Id %in% df2$Id) %>%\n",
    "        ggplot(aes(TotalSteps, Calories)) + \n",
    "        geom_point() + \n",
    "        labs(title = title)#+\n",
    "        #geom_smooth(method = loess, fullrange=TRUE)\n",
    "}"
   ]
  },
  {
   "cell_type": "code",
   "execution_count": 30,
   "id": "13fad8c9",
   "metadata": {},
   "outputs": [
    {
     "data": {
      "image/png": "[encoded data removed]",
      "text/plain": [
       "plot without title"
      ]
     },
     "metadata": {},
     "output_type": "display_data"
    }
   ],
   "source": [
    "point_plot(daily_activities, less_5000_steps, \"Indivisual average steps less than 5000, Total Steps VS Calories\")"
   ]
  },
  {
   "cell_type": "code",
   "execution_count": 31,
   "id": "ea942519",
   "metadata": {},
   "outputs": [
    {
     "data": {
      "image/png": "[encoded data removed]",
      "text/plain": [
       "plot without title"
      ]
     },
     "metadata": {},
     "output_type": "display_data"
    }
   ],
   "source": [
    "point_plot(daily_activities, steps_between_5000_and_10000, \"Indivisual average steps between 5000 and 10000, Total Steps VS Calories\")"
   ]
  },
  {
   "cell_type": "code",
   "execution_count": 32,
   "id": "c84e71f5",
   "metadata": {},
   "outputs": [
    {
     "data": {
      "image/png": "[encoded data removed]",
      "text/plain": [
       "plot without title"
      ]
     },
     "metadata": {},
     "output_type": "display_data"
    }
   ],
   "source": [
    "point_plot(daily_activities, steps_more_than_10000, \"Indivisual average steps more than 10000, Total Steps VS Calories\")"
   ]
  },
  {
   "cell_type": "markdown",
   "id": "9cc0687c",
   "metadata": {},
   "source": [
    "For each group of plots, individual average steps less than 5000, between 5000 and 10000, and greater than 10000 from the daily_activities dataset over 31 days. Individuals in the more steps range tend to be less dispersed, even though the different group does not have the same number of users.\n",
    "\n",
    "Surprisingly, the group with average steps less than 5000 and between 5000 and 10000, have similar tendencies. Data points in these two groups can be identified as formed by 3 clusters.\n",
    "\n",
    "This may suggest that grouping users based on the number of Total Steps and Calories consumption would be a key indicator to identifying the users' purposes for using devices. "
   ]
  }
 ],
 "metadata": {
  "kernelspec": {
   "display_name": "R",
   "language": "R",
   "name": "ir"
  },
  "language_info": {
   "codemirror_mode": "r",
   "file_extension": ".r",
   "mimetype": "text/x-r-source",
   "name": "R",
   "pygments_lexer": "r",
   "version": "3.6.1"
  }
 },
 "nbformat": 4,
 "nbformat_minor": 5
}
